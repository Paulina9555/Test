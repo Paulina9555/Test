{
  "nbformat": 4,
  "nbformat_minor": 0,
  "metadata": {
    "colab": {
      "provenance": [],
      "collapsed_sections": [
        "rfbuylE3rMRI",
        "EvJjMWecsfnl",
        "2ka3O-BTiMQB",
        "OnxODI7fmPGy",
        "90FczAITm04e",
        "YpUgePMmn8df",
        "rxakjfRVoj7g",
        "OhNpvaNBpgho",
        "Znr2NUFPtjbV",
        "10D0Hzumu9nY",
        "Dn4owUoEyNiK",
        "X62BQ4JjyYBq"
      ],
      "authorship_tag": "ABX9TyOssJzcFXBPdQ7P7Whts9bN",
      "include_colab_link": true
    },
    "kernelspec": {
      "name": "python3",
      "display_name": "Python 3"
    },
    "language_info": {
      "name": "python"
    }
  },
  "cells": [
    {
      "cell_type": "markdown",
      "metadata": {
        "id": "view-in-github",
        "colab_type": "text"
      },
      "source": [
        "<a href=\"https://colab.research.google.com/github/Paulina9555/Test/blob/master/statystyka_i_prawdopodobienstwo.ipynb\" target=\"_parent\"><img src=\"https://colab.research.google.com/assets/colab-badge.svg\" alt=\"Open In Colab\"/></a>"
      ]
    },
    {
      "cell_type": "markdown",
      "source": [
        "#Zadanie 1"
      ],
      "metadata": {
        "id": "rfbuylE3rMRI"
      }
    },
    {
      "cell_type": "code",
      "execution_count": null,
      "metadata": {
        "id": "SQa_FXGerHi4"
      },
      "outputs": [],
      "source": [
        "import numpy as np"
      ]
    },
    {
      "cell_type": "code",
      "source": [
        "import pandas as pd"
      ],
      "metadata": {
        "id": "UDtGiFXcrQZS"
      },
      "execution_count": null,
      "outputs": []
    },
    {
      "cell_type": "code",
      "source": [
        "numbers = np.arange(100)"
      ],
      "metadata": {
        "id": "eJkBK7fMrRQo"
      },
      "execution_count": null,
      "outputs": []
    },
    {
      "cell_type": "code",
      "source": [
        "numbers"
      ],
      "metadata": {
        "colab": {
          "base_uri": "https://localhost:8080/"
        },
        "id": "bak-rbrtrZo5",
        "outputId": "267ae8dc-f760-4ea4-e98b-0d8c034222e1"
      },
      "execution_count": null,
      "outputs": [
        {
          "output_type": "execute_result",
          "data": {
            "text/plain": [
              "array([ 0,  1,  2,  3,  4,  5,  6,  7,  8,  9, 10, 11, 12, 13, 14, 15, 16,\n",
              "       17, 18, 19, 20, 21, 22, 23, 24, 25, 26, 27, 28, 29, 30, 31, 32, 33,\n",
              "       34, 35, 36, 37, 38, 39, 40, 41, 42, 43, 44, 45, 46, 47, 48, 49, 50,\n",
              "       51, 52, 53, 54, 55, 56, 57, 58, 59, 60, 61, 62, 63, 64, 65, 66, 67,\n",
              "       68, 69, 70, 71, 72, 73, 74, 75, 76, 77, 78, 79, 80, 81, 82, 83, 84,\n",
              "       85, 86, 87, 88, 89, 90, 91, 92, 93, 94, 95, 96, 97, 98, 99])"
            ]
          },
          "metadata": {},
          "execution_count": 6
        }
      ]
    },
    {
      "cell_type": "code",
      "source": [
        "numbers = np.array([x for x in range (1000,1,-1) if x % 11==0])"
      ],
      "metadata": {
        "id": "eXxytsHtrd3T"
      },
      "execution_count": null,
      "outputs": []
    },
    {
      "cell_type": "code",
      "source": [
        "print(numbers)"
      ],
      "metadata": {
        "colab": {
          "base_uri": "https://localhost:8080/"
        },
        "id": "ABpOtbuUrrt5",
        "outputId": "a51c10e0-4bda-41f3-e034-b47de02c846c"
      },
      "execution_count": null,
      "outputs": [
        {
          "output_type": "stream",
          "name": "stdout",
          "text": [
            "[990 979 968 957 946 935 924 913 902 891 880 869 858 847 836 825 814 803\n",
            " 792 781 770 759 748 737 726 715 704 693 682 671 660 649 638 627 616 605\n",
            " 594 583 572 561 550 539 528 517 506 495 484 473 462 451 440 429 418 407\n",
            " 396 385 374 363 352 341 330 319 308 297 286 275 264 253 242 231 220 209\n",
            " 198 187 176 165 154 143 132 121 110  99  88  77  66  55  44  33  22  11]\n"
          ]
        }
      ]
    },
    {
      "cell_type": "code",
      "source": [
        "numbers = np.linspace(-5,5,70)"
      ],
      "metadata": {
        "id": "PLBhdFiyrt8C"
      },
      "execution_count": null,
      "outputs": []
    },
    {
      "cell_type": "code",
      "source": [
        "print(numbers)"
      ],
      "metadata": {
        "colab": {
          "base_uri": "https://localhost:8080/"
        },
        "id": "ZltKIXZMr6uH",
        "outputId": "6fa7fe13-578f-4a2d-a6ac-359a213696aa"
      },
      "execution_count": null,
      "outputs": [
        {
          "output_type": "stream",
          "name": "stdout",
          "text": [
            "[-5.         -4.85507246 -4.71014493 -4.56521739 -4.42028986 -4.27536232\n",
            " -4.13043478 -3.98550725 -3.84057971 -3.69565217 -3.55072464 -3.4057971\n",
            " -3.26086957 -3.11594203 -2.97101449 -2.82608696 -2.68115942 -2.53623188\n",
            " -2.39130435 -2.24637681 -2.10144928 -1.95652174 -1.8115942  -1.66666667\n",
            " -1.52173913 -1.37681159 -1.23188406 -1.08695652 -0.94202899 -0.79710145\n",
            " -0.65217391 -0.50724638 -0.36231884 -0.2173913  -0.07246377  0.07246377\n",
            "  0.2173913   0.36231884  0.50724638  0.65217391  0.79710145  0.94202899\n",
            "  1.08695652  1.23188406  1.37681159  1.52173913  1.66666667  1.8115942\n",
            "  1.95652174  2.10144928  2.24637681  2.39130435  2.53623188  2.68115942\n",
            "  2.82608696  2.97101449  3.11594203  3.26086957  3.4057971   3.55072464\n",
            "  3.69565217  3.84057971  3.98550725  4.13043478  4.27536232  4.42028986\n",
            "  4.56521739  4.71014493  4.85507246  5.        ]\n"
          ]
        }
      ]
    },
    {
      "cell_type": "markdown",
      "source": [
        "#Zadanie 2"
      ],
      "metadata": {
        "id": "EvJjMWecsfnl"
      }
    },
    {
      "cell_type": "code",
      "source": [
        "A = np.array([[1,4,7],\n",
        "             [2,5,8],\n",
        "             [3,6,9]])\n",
        "\n",
        "B = np.array([[3,2,3],\n",
        "             [4,3,1],\n",
        "             [7,3,1]])\n",
        "\n",
        "print(A)\n",
        "print(B)"
      ],
      "metadata": {
        "id": "7vcc_9ZeseNt",
        "colab": {
          "base_uri": "https://localhost:8080/"
        },
        "outputId": "9ec1d0a3-81a0-4a06-820e-74203cf19f6f"
      },
      "execution_count": null,
      "outputs": [
        {
          "output_type": "stream",
          "name": "stdout",
          "text": [
            "[[1 4 7]\n",
            " [2 5 8]\n",
            " [3 6 9]]\n",
            "[[3 2 3]\n",
            " [4 3 1]\n",
            " [7 3 1]]\n"
          ]
        }
      ]
    },
    {
      "cell_type": "code",
      "source": [
        "A.shape"
      ],
      "metadata": {
        "colab": {
          "base_uri": "https://localhost:8080/"
        },
        "id": "30CEB4Mlg0SE",
        "outputId": "a03cc05a-1f4a-4c5b-ee4d-6240c9b6cecb"
      },
      "execution_count": null,
      "outputs": [
        {
          "output_type": "execute_result",
          "data": {
            "text/plain": [
              "(3, 3)"
            ]
          },
          "metadata": {},
          "execution_count": 17
        }
      ]
    },
    {
      "cell_type": "code",
      "source": [
        "C = np.add(A,B)\n",
        "C"
      ],
      "metadata": {
        "colab": {
          "base_uri": "https://localhost:8080/"
        },
        "id": "HeFUrArng20x",
        "outputId": "ab1c44f9-fa49-4b56-8b95-bbc6ae936ba8"
      },
      "execution_count": null,
      "outputs": [
        {
          "output_type": "execute_result",
          "data": {
            "text/plain": [
              "array([[ 4,  6, 10],\n",
              "       [ 6,  8,  9],\n",
              "       [10,  9, 10]])"
            ]
          },
          "metadata": {},
          "execution_count": 20
        }
      ]
    },
    {
      "cell_type": "code",
      "source": [
        "C.shape"
      ],
      "metadata": {
        "colab": {
          "base_uri": "https://localhost:8080/"
        },
        "id": "AF6JXu6VhrGI",
        "outputId": "e549ad14-da21-4f42-df2c-799983960ee1"
      },
      "execution_count": null,
      "outputs": [
        {
          "output_type": "execute_result",
          "data": {
            "text/plain": [
              "(3, 3)"
            ]
          },
          "metadata": {},
          "execution_count": 21
        }
      ]
    },
    {
      "cell_type": "code",
      "source": [
        "D =np.subtract(A,B)\n",
        "D"
      ],
      "metadata": {
        "colab": {
          "base_uri": "https://localhost:8080/"
        },
        "id": "PEnDj5wNhvDx",
        "outputId": "bdc44d73-c333-44e1-93e8-bd3f1fdbc5d2"
      },
      "execution_count": null,
      "outputs": [
        {
          "output_type": "execute_result",
          "data": {
            "text/plain": [
              "array([[-2,  2,  4],\n",
              "       [-2,  2,  7],\n",
              "       [-4,  3,  8]])"
            ]
          },
          "metadata": {},
          "execution_count": 22
        }
      ]
    },
    {
      "cell_type": "code",
      "source": [
        "D.shape"
      ],
      "metadata": {
        "colab": {
          "base_uri": "https://localhost:8080/"
        },
        "id": "o-bZ0Aq8h14q",
        "outputId": "2debf12e-f62b-4805-898a-b658218addcd"
      },
      "execution_count": null,
      "outputs": [
        {
          "output_type": "execute_result",
          "data": {
            "text/plain": [
              "(3, 3)"
            ]
          },
          "metadata": {},
          "execution_count": 23
        }
      ]
    },
    {
      "cell_type": "code",
      "source": [
        "print(A.T)\n",
        "print(B.T)"
      ],
      "metadata": {
        "colab": {
          "base_uri": "https://localhost:8080/"
        },
        "id": "IKiRZJw6h2vn",
        "outputId": "4446cf6d-c379-4841-e9cb-230c7b1f441f"
      },
      "execution_count": null,
      "outputs": [
        {
          "output_type": "stream",
          "name": "stdout",
          "text": [
            "[[1 2 3]\n",
            " [4 5 6]\n",
            " [7 8 9]]\n",
            "[[3 4 7]\n",
            " [2 3 3]\n",
            " [3 1 1]]\n"
          ]
        }
      ]
    },
    {
      "cell_type": "code",
      "source": [
        "A.T.shape"
      ],
      "metadata": {
        "colab": {
          "base_uri": "https://localhost:8080/"
        },
        "id": "hKGIXtJCh5RA",
        "outputId": "49e76028-0d7a-4231-a3d1-e05db649e033"
      },
      "execution_count": null,
      "outputs": [
        {
          "output_type": "execute_result",
          "data": {
            "text/plain": [
              "(3, 3)"
            ]
          },
          "metadata": {},
          "execution_count": 26
        }
      ]
    },
    {
      "cell_type": "code",
      "source": [
        "B.T.shape"
      ],
      "metadata": {
        "colab": {
          "base_uri": "https://localhost:8080/"
        },
        "id": "iCAswKH1h_sN",
        "outputId": "e3850685-1699-45f6-891c-0c4a0bc05500"
      },
      "execution_count": null,
      "outputs": [
        {
          "output_type": "execute_result",
          "data": {
            "text/plain": [
              "(3, 3)"
            ]
          },
          "metadata": {},
          "execution_count": 27
        }
      ]
    },
    {
      "cell_type": "code",
      "source": [
        "E = np.multiply(A,B)\n",
        "E"
      ],
      "metadata": {
        "colab": {
          "base_uri": "https://localhost:8080/"
        },
        "id": "GrL_hZpEiAZH",
        "outputId": "f30d0412-047a-427a-8a59-1a2ed1646220"
      },
      "execution_count": null,
      "outputs": [
        {
          "output_type": "execute_result",
          "data": {
            "text/plain": [
              "array([[ 3,  8, 21],\n",
              "       [ 8, 15,  8],\n",
              "       [21, 18,  9]])"
            ]
          },
          "metadata": {},
          "execution_count": 28
        }
      ]
    },
    {
      "cell_type": "code",
      "source": [
        "E.shape"
      ],
      "metadata": {
        "colab": {
          "base_uri": "https://localhost:8080/"
        },
        "id": "yBHZn8G9iFTR",
        "outputId": "bab7aa3d-e554-4ff6-dd44-736b0add1f38"
      },
      "execution_count": null,
      "outputs": [
        {
          "output_type": "execute_result",
          "data": {
            "text/plain": [
              "(3, 3)"
            ]
          },
          "metadata": {},
          "execution_count": 29
        }
      ]
    },
    {
      "cell_type": "code",
      "source": [
        "F =np.divide(A,B)\n",
        "F"
      ],
      "metadata": {
        "colab": {
          "base_uri": "https://localhost:8080/"
        },
        "id": "SkuhIXVwiGL8",
        "outputId": "bb485131-f884-48e7-fde8-b814084c66c6"
      },
      "execution_count": null,
      "outputs": [
        {
          "output_type": "execute_result",
          "data": {
            "text/plain": [
              "array([[0.33333333, 2.        , 2.33333333],\n",
              "       [0.5       , 1.66666667, 8.        ],\n",
              "       [0.42857143, 2.        , 9.        ]])"
            ]
          },
          "metadata": {},
          "execution_count": 30
        }
      ]
    },
    {
      "cell_type": "code",
      "source": [
        "F.shape"
      ],
      "metadata": {
        "colab": {
          "base_uri": "https://localhost:8080/"
        },
        "id": "ZTBz4lHliJ31",
        "outputId": "5f01f52d-a1b3-404d-eb7a-1a83d03e8e07"
      },
      "execution_count": null,
      "outputs": [
        {
          "output_type": "execute_result",
          "data": {
            "text/plain": [
              "(3, 3)"
            ]
          },
          "metadata": {},
          "execution_count": 31
        }
      ]
    },
    {
      "cell_type": "markdown",
      "source": [
        "#Zadanie 3"
      ],
      "metadata": {
        "id": "2ka3O-BTiMQB"
      }
    },
    {
      "cell_type": "code",
      "source": [
        "X = np.arange(0, np.pi, 0.1)\n",
        "sinus = np.sin(X)\n",
        "cosinus = np.cos(X)"
      ],
      "metadata": {
        "id": "tf5W6gYIiK-I"
      },
      "execution_count": null,
      "outputs": []
    },
    {
      "cell_type": "code",
      "source": [
        "sinus"
      ],
      "metadata": {
        "colab": {
          "base_uri": "https://localhost:8080/"
        },
        "id": "nd8aeuc7k5tp",
        "outputId": "f35b66fc-41f0-4ab8-bc71-09a6f1c7bc3b"
      },
      "execution_count": null,
      "outputs": [
        {
          "output_type": "execute_result",
          "data": {
            "text/plain": [
              "array([0.        , 0.09983342, 0.19866933, 0.29552021, 0.38941834,\n",
              "       0.47942554, 0.56464247, 0.64421769, 0.71735609, 0.78332691,\n",
              "       0.84147098, 0.89120736, 0.93203909, 0.96355819, 0.98544973,\n",
              "       0.99749499, 0.9995736 , 0.99166481, 0.97384763, 0.94630009,\n",
              "       0.90929743, 0.86320937, 0.8084964 , 0.74570521, 0.67546318,\n",
              "       0.59847214, 0.51550137, 0.42737988, 0.33498815, 0.23924933,\n",
              "       0.14112001, 0.04158066])"
            ]
          },
          "metadata": {},
          "execution_count": 35
        }
      ]
    },
    {
      "cell_type": "code",
      "source": [
        "cosinus"
      ],
      "metadata": {
        "colab": {
          "base_uri": "https://localhost:8080/"
        },
        "id": "0N1yIngvlCa0",
        "outputId": "c1d1341a-c784-4549-80af-0f3c0075de98"
      },
      "execution_count": null,
      "outputs": [
        {
          "output_type": "execute_result",
          "data": {
            "text/plain": [
              "array([ 1.        ,  0.99500417,  0.98006658,  0.95533649,  0.92106099,\n",
              "        0.87758256,  0.82533561,  0.76484219,  0.69670671,  0.62160997,\n",
              "        0.54030231,  0.45359612,  0.36235775,  0.26749883,  0.16996714,\n",
              "        0.0707372 , -0.02919952, -0.12884449, -0.22720209, -0.32328957,\n",
              "       -0.41614684, -0.5048461 , -0.58850112, -0.66627602, -0.73739372,\n",
              "       -0.80114362, -0.85688875, -0.90407214, -0.94222234, -0.97095817,\n",
              "       -0.9899925 , -0.99913515])"
            ]
          },
          "metadata": {},
          "execution_count": 36
        }
      ]
    },
    {
      "cell_type": "code",
      "source": [
        "A = np.arange(-100,100, step=2)\n",
        "A"
      ],
      "metadata": {
        "colab": {
          "base_uri": "https://localhost:8080/"
        },
        "id": "RAeKMMzIlC23",
        "outputId": "390ea141-bb6c-4a83-98fd-1ac994e1c347"
      },
      "execution_count": null,
      "outputs": [
        {
          "output_type": "execute_result",
          "data": {
            "text/plain": [
              "array([-100,  -98,  -96,  -94,  -92,  -90,  -88,  -86,  -84,  -82,  -80,\n",
              "        -78,  -76,  -74,  -72,  -70,  -68,  -66,  -64,  -62,  -60,  -58,\n",
              "        -56,  -54,  -52,  -50,  -48,  -46,  -44,  -42,  -40,  -38,  -36,\n",
              "        -34,  -32,  -30,  -28,  -26,  -24,  -22,  -20,  -18,  -16,  -14,\n",
              "        -12,  -10,   -8,   -6,   -4,   -2,    0,    2,    4,    6,    8,\n",
              "         10,   12,   14,   16,   18,   20,   22,   24,   26,   28,   30,\n",
              "         32,   34,   36,   38,   40,   42,   44,   46,   48,   50,   52,\n",
              "         54,   56,   58,   60,   62,   64,   66,   68,   70,   72,   74,\n",
              "         76,   78,   80,   82,   84,   86,   88,   90,   92,   94,   96,\n",
              "         98])"
            ]
          },
          "metadata": {},
          "execution_count": 38
        }
      ]
    },
    {
      "cell_type": "code",
      "source": [
        "B = np.arange(0, 21, step=1)\n",
        "C = np.array(2**B)\n",
        "C"
      ],
      "metadata": {
        "colab": {
          "base_uri": "https://localhost:8080/"
        },
        "id": "pWN7M4rFlJVE",
        "outputId": "8c006031-53c3-4cc6-d97e-a2311f21ab5e"
      },
      "execution_count": null,
      "outputs": [
        {
          "output_type": "execute_result",
          "data": {
            "text/plain": [
              "array([      1,       2,       4,       8,      16,      32,      64,\n",
              "           128,     256,     512,    1024,    2048,    4096,    8192,\n",
              "         16384,   32768,   65536,  131072,  262144,  524288, 1048576])"
            ]
          },
          "metadata": {},
          "execution_count": 40
        }
      ]
    },
    {
      "cell_type": "code",
      "source": [
        "D = np.array(3**B)\n",
        "D"
      ],
      "metadata": {
        "colab": {
          "base_uri": "https://localhost:8080/"
        },
        "id": "oLWTeXBjllWW",
        "outputId": "52026d51-72b4-419d-8c73-0b57dbb09076"
      },
      "execution_count": null,
      "outputs": [
        {
          "output_type": "execute_result",
          "data": {
            "text/plain": [
              "array([         1,          3,          9,         27,         81,\n",
              "              243,        729,       2187,       6561,      19683,\n",
              "            59049,     177147,     531441,    1594323,    4782969,\n",
              "         14348907,   43046721,  129140163,  387420489, 1162261467,\n",
              "       3486784401])"
            ]
          },
          "metadata": {},
          "execution_count": 44
        }
      ]
    },
    {
      "cell_type": "code",
      "source": [
        "E = C + D[::-1]\n",
        "E"
      ],
      "metadata": {
        "colab": {
          "base_uri": "https://localhost:8080/"
        },
        "id": "gOF_E2FEl0cj",
        "outputId": "2c640c9d-a6db-4ecd-d930-2188866c7597"
      },
      "execution_count": null,
      "outputs": [
        {
          "output_type": "execute_result",
          "data": {
            "text/plain": [
              "array([3486784402, 1162261469,  387420493,  129140171,   43046737,\n",
              "         14348939,    4783033,    1594451,     531697,     177659,\n",
              "            60073,      21731,      10657,      10379,      17113,\n",
              "            33011,      65617,     131099,     262153,     524291,\n",
              "          1048577])"
            ]
          },
          "metadata": {},
          "execution_count": 45
        }
      ]
    },
    {
      "cell_type": "markdown",
      "source": [
        "#Zadanie 4"
      ],
      "metadata": {
        "id": "OnxODI7fmPGy"
      }
    },
    {
      "cell_type": "code",
      "source": [
        "A = np.arange(1,102)\n",
        "A"
      ],
      "metadata": {
        "colab": {
          "base_uri": "https://localhost:8080/"
        },
        "id": "UAxn9otsmGDS",
        "outputId": "5fe89ee3-13b8-4328-dea9-99c2b9ad4a3e"
      },
      "execution_count": null,
      "outputs": [
        {
          "output_type": "execute_result",
          "data": {
            "text/plain": [
              "array([  1,   2,   3,   4,   5,   6,   7,   8,   9,  10,  11,  12,  13,\n",
              "        14,  15,  16,  17,  18,  19,  20,  21,  22,  23,  24,  25,  26,\n",
              "        27,  28,  29,  30,  31,  32,  33,  34,  35,  36,  37,  38,  39,\n",
              "        40,  41,  42,  43,  44,  45,  46,  47,  48,  49,  50,  51,  52,\n",
              "        53,  54,  55,  56,  57,  58,  59,  60,  61,  62,  63,  64,  65,\n",
              "        66,  67,  68,  69,  70,  71,  72,  73,  74,  75,  76,  77,  78,\n",
              "        79,  80,  81,  82,  83,  84,  85,  86,  87,  88,  89,  90,  91,\n",
              "        92,  93,  94,  95,  96,  97,  98,  99, 100, 101])"
            ]
          },
          "metadata": {},
          "execution_count": 49
        }
      ]
    },
    {
      "cell_type": "code",
      "source": [
        "result = sum(1/A)\n",
        "result"
      ],
      "metadata": {
        "colab": {
          "base_uri": "https://localhost:8080/"
        },
        "id": "M9eelGHomWPy",
        "outputId": "cd3848a4-b5df-4c46-da29-2ff22a2206a4"
      },
      "execution_count": null,
      "outputs": [
        {
          "output_type": "execute_result",
          "data": {
            "text/plain": [
              "5.1972785077386305"
            ]
          },
          "metadata": {},
          "execution_count": 52
        }
      ]
    },
    {
      "cell_type": "code",
      "source": [
        "result = sum(1/np.sqrt(A))\n",
        "result"
      ],
      "metadata": {
        "colab": {
          "base_uri": "https://localhost:8080/"
        },
        "id": "xMuRKxbYmfsW",
        "outputId": "2d12655b-b8d3-42e4-fbfe-5ae870b3de66"
      },
      "execution_count": null,
      "outputs": [
        {
          "output_type": "execute_result",
          "data": {
            "text/plain": [
              "18.689107543805147"
            ]
          },
          "metadata": {},
          "execution_count": 53
        }
      ]
    },
    {
      "cell_type": "code",
      "source": [
        "result = sum((1+1/A)**A)\n",
        "result"
      ],
      "metadata": {
        "colab": {
          "base_uri": "https://localhost:8080/"
        },
        "id": "hfrkYnBFmpz-",
        "outputId": "14e212d3-fb55-4501-d1e3-f0389237a710"
      },
      "execution_count": null,
      "outputs": [
        {
          "output_type": "execute_result",
          "data": {
            "text/plain": [
              "268.74089438451426"
            ]
          },
          "metadata": {},
          "execution_count": 54
        }
      ]
    },
    {
      "cell_type": "markdown",
      "source": [
        "#Zadanie 5"
      ],
      "metadata": {
        "id": "90FczAITm04e"
      }
    },
    {
      "cell_type": "code",
      "source": [
        "A = np.arange(0,49, step=1)\n",
        "B = A.reshape(7,7)\n",
        "B"
      ],
      "metadata": {
        "colab": {
          "base_uri": "https://localhost:8080/"
        },
        "id": "ertmfYQemzGo",
        "outputId": "16fbf4d4-029c-4a55-85f5-82a1fb71231f"
      },
      "execution_count": null,
      "outputs": [
        {
          "output_type": "execute_result",
          "data": {
            "text/plain": [
              "array([[ 0,  1,  2,  3,  4,  5,  6],\n",
              "       [ 7,  8,  9, 10, 11, 12, 13],\n",
              "       [14, 15, 16, 17, 18, 19, 20],\n",
              "       [21, 22, 23, 24, 25, 26, 27],\n",
              "       [28, 29, 30, 31, 32, 33, 34],\n",
              "       [35, 36, 37, 38, 39, 40, 41],\n",
              "       [42, 43, 44, 45, 46, 47, 48]])"
            ]
          },
          "metadata": {},
          "execution_count": 56
        }
      ]
    },
    {
      "cell_type": "code",
      "source": [
        "print(B[[3], [4]])"
      ],
      "metadata": {
        "colab": {
          "base_uri": "https://localhost:8080/"
        },
        "id": "WdScVD1vnAWV",
        "outputId": "4f6f0bf7-ca9b-44cf-ebe4-155261ee843f"
      },
      "execution_count": null,
      "outputs": [
        {
          "output_type": "stream",
          "name": "stdout",
          "text": [
            "[25]\n"
          ]
        }
      ]
    },
    {
      "cell_type": "code",
      "source": [
        "B[[5], [2]]=np.pi\n",
        "B"
      ],
      "metadata": {
        "colab": {
          "base_uri": "https://localhost:8080/"
        },
        "id": "I37CQeGInKAz",
        "outputId": "e7f944f1-1f75-4f1a-9334-11644d8dab2e"
      },
      "execution_count": null,
      "outputs": [
        {
          "output_type": "execute_result",
          "data": {
            "text/plain": [
              "array([[ 0,  1,  2,  3,  4,  5,  6],\n",
              "       [ 7,  8,  9, 10, 11, 12, 13],\n",
              "       [14, 15, 16, 17, 18, 19, 20],\n",
              "       [21, 22, 23, 24, 25, 26, 27],\n",
              "       [28, 29, 30, 31, 32, 33, 34],\n",
              "       [35, 36,  3, 38, 39, 40, 41],\n",
              "       [42, 43, 44, 45, 46, 47, 48]])"
            ]
          },
          "metadata": {},
          "execution_count": 60
        }
      ]
    },
    {
      "cell_type": "code",
      "source": [
        "C = B[:3, 1:-1]\n",
        "C"
      ],
      "metadata": {
        "colab": {
          "base_uri": "https://localhost:8080/"
        },
        "id": "oeIHy_tsnVhq",
        "outputId": "023bb48a-92ec-4771-fe1b-81a690d6fd05"
      },
      "execution_count": null,
      "outputs": [
        {
          "output_type": "execute_result",
          "data": {
            "text/plain": [
              "array([[ 1,  2,  3,  4,  5],\n",
              "       [ 8,  9, 10, 11, 12],\n",
              "       [15, 16, 17, 18, 19]])"
            ]
          },
          "metadata": {},
          "execution_count": 66
        }
      ]
    },
    {
      "cell_type": "code",
      "source": [
        "D = B[:,:3]\n",
        "D"
      ],
      "metadata": {
        "colab": {
          "base_uri": "https://localhost:8080/"
        },
        "id": "Pro93EGHngMv",
        "outputId": "bc583d06-8dda-4e90-eefb-49594fd99b5b"
      },
      "execution_count": null,
      "outputs": [
        {
          "output_type": "execute_result",
          "data": {
            "text/plain": [
              "array([[ 0,  1,  2],\n",
              "       [ 7,  8,  9],\n",
              "       [14, 15, 16],\n",
              "       [21, 22, 23],\n",
              "       [28, 29, 30],\n",
              "       [35, 36,  3],\n",
              "       [42, 43, 44]])"
            ]
          },
          "metadata": {},
          "execution_count": 67
        }
      ]
    },
    {
      "cell_type": "code",
      "source": [
        "E = B[-4:,:]\n",
        "E"
      ],
      "metadata": {
        "colab": {
          "base_uri": "https://localhost:8080/"
        },
        "id": "EIwAJB9YnzPt",
        "outputId": "6f981a18-26ef-44eb-cb97-d79eb154b46a"
      },
      "execution_count": null,
      "outputs": [
        {
          "output_type": "execute_result",
          "data": {
            "text/plain": [
              "array([[21, 22, 23, 24, 25, 26, 27],\n",
              "       [28, 29, 30, 31, 32, 33, 34],\n",
              "       [35, 36,  3, 38, 39, 40, 41],\n",
              "       [42, 43, 44, 45, 46, 47, 48]])"
            ]
          },
          "metadata": {},
          "execution_count": 69
        }
      ]
    },
    {
      "cell_type": "markdown",
      "source": [
        "#Zadanie 6"
      ],
      "metadata": {
        "id": "YpUgePMmn8df"
      }
    },
    {
      "cell_type": "code",
      "source": [
        "A = np.arange(0,36, step=1)\n",
        "A"
      ],
      "metadata": {
        "colab": {
          "base_uri": "https://localhost:8080/"
        },
        "id": "dmteJ8dbn3s9",
        "outputId": "bf7d8005-96d9-4cba-8cc0-8c1e4f6a6781"
      },
      "execution_count": null,
      "outputs": [
        {
          "output_type": "execute_result",
          "data": {
            "text/plain": [
              "array([ 0,  1,  2,  3,  4,  5,  6,  7,  8,  9, 10, 11, 12, 13, 14, 15, 16,\n",
              "       17, 18, 19, 20, 21, 22, 23, 24, 25, 26, 27, 28, 29, 30, 31, 32, 33,\n",
              "       34, 35])"
            ]
          },
          "metadata": {},
          "execution_count": 70
        }
      ]
    },
    {
      "cell_type": "code",
      "source": [
        "B = A.reshape(2,18)\n",
        "B"
      ],
      "metadata": {
        "colab": {
          "base_uri": "https://localhost:8080/"
        },
        "id": "MFYDMyMYoTXK",
        "outputId": "fc7b9b1f-7135-4b34-a0bb-838f5d88e001"
      },
      "execution_count": null,
      "outputs": [
        {
          "output_type": "execute_result",
          "data": {
            "text/plain": [
              "array([[ 0,  1,  2,  3,  4,  5,  6,  7,  8,  9, 10, 11, 12, 13, 14, 15,\n",
              "        16, 17],\n",
              "       [18, 19, 20, 21, 22, 23, 24, 25, 26, 27, 28, 29, 30, 31, 32, 33,\n",
              "        34, 35]])"
            ]
          },
          "metadata": {},
          "execution_count": 72
        }
      ]
    },
    {
      "cell_type": "code",
      "source": [
        "C = A.reshape(3,12)\n",
        "C"
      ],
      "metadata": {
        "colab": {
          "base_uri": "https://localhost:8080/"
        },
        "id": "R-aGANuzoXEZ",
        "outputId": "e583ae84-cf80-43d0-92e6-94e592b22e32"
      },
      "execution_count": null,
      "outputs": [
        {
          "output_type": "execute_result",
          "data": {
            "text/plain": [
              "array([[ 0,  1,  2,  3,  4,  5,  6,  7,  8,  9, 10, 11],\n",
              "       [12, 13, 14, 15, 16, 17, 18, 19, 20, 21, 22, 23],\n",
              "       [24, 25, 26, 27, 28, 29, 30, 31, 32, 33, 34, 35]])"
            ]
          },
          "metadata": {},
          "execution_count": 73
        }
      ]
    },
    {
      "cell_type": "code",
      "source": [
        "D = A.reshape(4,9)\n",
        "D"
      ],
      "metadata": {
        "colab": {
          "base_uri": "https://localhost:8080/"
        },
        "id": "gZ8w5KA-odDy",
        "outputId": "b1ddc2f1-6a72-4227-d962-578c0d3d63d1"
      },
      "execution_count": null,
      "outputs": [
        {
          "output_type": "execute_result",
          "data": {
            "text/plain": [
              "array([[ 0,  1,  2,  3,  4,  5,  6,  7,  8],\n",
              "       [ 9, 10, 11, 12, 13, 14, 15, 16, 17],\n",
              "       [18, 19, 20, 21, 22, 23, 24, 25, 26],\n",
              "       [27, 28, 29, 30, 31, 32, 33, 34, 35]])"
            ]
          },
          "metadata": {},
          "execution_count": 74
        }
      ]
    },
    {
      "cell_type": "markdown",
      "source": [
        "#Zadanie 7"
      ],
      "metadata": {
        "id": "rxakjfRVoj7g"
      }
    },
    {
      "cell_type": "code",
      "source": [
        "A = np.ones(shape=(100,100))\n",
        "B = np.expand_dims(np.arange(1,101),1)\n",
        "\n",
        "C = A * B\n",
        "C"
      ],
      "metadata": {
        "colab": {
          "base_uri": "https://localhost:8080/"
        },
        "id": "fnnOwN9iohwI",
        "outputId": "d58ab36d-026b-4398-e10c-60cd57d2c0f9"
      },
      "execution_count": null,
      "outputs": [
        {
          "output_type": "execute_result",
          "data": {
            "text/plain": [
              "array([[  1.,   1.,   1., ...,   1.,   1.,   1.],\n",
              "       [  2.,   2.,   2., ...,   2.,   2.,   2.],\n",
              "       [  3.,   3.,   3., ...,   3.,   3.,   3.],\n",
              "       ...,\n",
              "       [ 98.,  98.,  98., ...,  98.,  98.,  98.],\n",
              "       [ 99.,  99.,  99., ...,  99.,  99.,  99.],\n",
              "       [100., 100., 100., ..., 100., 100., 100.]])"
            ]
          },
          "metadata": {},
          "execution_count": 78
        }
      ]
    },
    {
      "cell_type": "markdown",
      "source": [
        "#Zadanie 8"
      ],
      "metadata": {
        "id": "OhNpvaNBpgho"
      }
    },
    {
      "cell_type": "code",
      "source": [
        "A = np.arange(0,10, step = 1)\n",
        "A.reshape(2,5)\n",
        "B = np.arange(10,20, step = 1)\n",
        "B.reshape(2,5)\n",
        "C = np.arange(20,30, step = 1)\n",
        "C.reshape(2,5)\n",
        "\n",
        "D = np.stack((A,B,C), axis = 0)\n",
        "D1 = np.stack((A,B,C), axis = 1)\n",
        "#D2 = np.stack((A,B,C), axis = 2)"
      ],
      "metadata": {
        "id": "y387H3KWoqtK"
      },
      "execution_count": null,
      "outputs": []
    },
    {
      "cell_type": "code",
      "source": [
        "print(D[0,0])\n",
        "print(D[1,1])\n",
        "print(D1[0,0])\n",
        "print(D1[1,1])"
      ],
      "metadata": {
        "colab": {
          "base_uri": "https://localhost:8080/"
        },
        "id": "Po-6ZWuEqXyJ",
        "outputId": "87ed03c6-6da6-4753-8215-8193d41f9c4d"
      },
      "execution_count": null,
      "outputs": [
        {
          "output_type": "stream",
          "name": "stdout",
          "text": [
            "0\n",
            "11\n",
            "0\n",
            "11\n"
          ]
        }
      ]
    },
    {
      "cell_type": "code",
      "source": [
        "print(D.shape)\n",
        "print(D1.shape)"
      ],
      "metadata": {
        "colab": {
          "base_uri": "https://localhost:8080/"
        },
        "id": "rH2ykdHDq7kg",
        "outputId": "035c58c9-cc96-4b14-a304-ee492bb42f57"
      },
      "execution_count": null,
      "outputs": [
        {
          "output_type": "stream",
          "name": "stdout",
          "text": [
            "(3, 10)\n",
            "(10, 3)\n"
          ]
        }
      ]
    },
    {
      "cell_type": "code",
      "source": [
        "print(np.sum(D))\n",
        "print(np.sum(D1))"
      ],
      "metadata": {
        "colab": {
          "base_uri": "https://localhost:8080/"
        },
        "id": "WuuiBkRErMH6",
        "outputId": "7d390fd0-9337-453f-f621-0c13642e3f64"
      },
      "execution_count": null,
      "outputs": [
        {
          "output_type": "stream",
          "name": "stdout",
          "text": [
            "435\n",
            "435\n"
          ]
        }
      ]
    },
    {
      "cell_type": "markdown",
      "source": [
        "#Statystyka opisowa, zadanie 1"
      ],
      "metadata": {
        "id": "Znr2NUFPtjbV"
      }
    },
    {
      "cell_type": "code",
      "source": [
        "    def converter(x):\n",
        "        try:\n",
        "            return float(x.decode(\"utf-8\").replace('\"', ''))\n",
        "        except ValueError:\n",
        "            print('non-numerical input')\n",
        "\n",
        "    data = np.to_csv(\n",
        "        \"MDR_RR_TB_burden_estimates_2022-01-03.csv\",\n",
        "        delimiter=',',\n",
        "        usecols=(3,),\n",
        "        converters = {3: converter},\n",
        "        skiprows=1,\n",
        "        unpack=True\n",
        "    )\n",
        "    data = data[np.logical_not(np.isnan(data))]\n"
      ],
      "metadata": {
        "colab": {
          "base_uri": "https://localhost:8080/",
          "height": 367
        },
        "id": "QBrjnqWerR4G",
        "outputId": "4ad9436b-2b21-494e-9288-ca854b261c22"
      },
      "execution_count": null,
      "outputs": [
        {
          "output_type": "error",
          "ename": "AttributeError",
          "evalue": "ignored",
          "traceback": [
            "\u001b[0;31m---------------------------------------------------------------------------\u001b[0m",
            "\u001b[0;31mAttributeError\u001b[0m                            Traceback (most recent call last)",
            "\u001b[0;32m<ipython-input-99-d4a75469e7df>\u001b[0m in \u001b[0;36m<cell line: 7>\u001b[0;34m()\u001b[0m\n\u001b[1;32m      5\u001b[0m         \u001b[0mprint\u001b[0m\u001b[0;34m(\u001b[0m\u001b[0;34m'non-numerical input'\u001b[0m\u001b[0;34m)\u001b[0m\u001b[0;34m\u001b[0m\u001b[0;34m\u001b[0m\u001b[0m\n\u001b[1;32m      6\u001b[0m \u001b[0;34m\u001b[0m\u001b[0m\n\u001b[0;32m----> 7\u001b[0;31m data = np.to_csv(\n\u001b[0m\u001b[1;32m      8\u001b[0m     \u001b[0;34m\"MDR_RR_TB_burden_estimates_2022-01-03.csv\"\u001b[0m\u001b[0;34m,\u001b[0m\u001b[0;34m\u001b[0m\u001b[0;34m\u001b[0m\u001b[0m\n\u001b[1;32m      9\u001b[0m     \u001b[0mdelimiter\u001b[0m\u001b[0;34m=\u001b[0m\u001b[0;34m','\u001b[0m\u001b[0;34m,\u001b[0m\u001b[0;34m\u001b[0m\u001b[0;34m\u001b[0m\u001b[0m\n",
            "\u001b[0;32m/usr/local/lib/python3.10/dist-packages/numpy/__init__.py\u001b[0m in \u001b[0;36m__getattr__\u001b[0;34m(attr)\u001b[0m\n\u001b[1;32m    309\u001b[0m             \u001b[0;32mreturn\u001b[0m \u001b[0mTester\u001b[0m\u001b[0;34m\u001b[0m\u001b[0;34m\u001b[0m\u001b[0m\n\u001b[1;32m    310\u001b[0m \u001b[0;34m\u001b[0m\u001b[0m\n\u001b[0;32m--> 311\u001b[0;31m         raise AttributeError(\"module {!r} has no attribute \"\n\u001b[0m\u001b[1;32m    312\u001b[0m                              \"{!r}\".format(__name__, attr))\n\u001b[1;32m    313\u001b[0m \u001b[0;34m\u001b[0m\u001b[0m\n",
            "\u001b[0;31mAttributeError\u001b[0m: module 'numpy' has no attribute 'to_csv'"
          ]
        }
      ]
    },
    {
      "cell_type": "code",
      "source": [
        " def print_basic_stats(data):\n",
        "        print(\"Max:\", np.max(data))\n",
        "        print(\"Min:\", np.min(data))\n",
        "        print(\"Mean:\", np.mean(data))\n",
        "        print(\"Median:\", np.median(data))\n",
        "        print(\"Standard deviation:\", np.std(data))\n",
        "        print(\"Variance:\", np.var(data))"
      ],
      "metadata": {
        "id": "86KufPMXuZlV"
      },
      "execution_count": null,
      "outputs": []
    },
    {
      "cell_type": "markdown",
      "source": [
        "#Statystyka opisowa, zadanie 2"
      ],
      "metadata": {
        "id": "10D0Hzumu9nY"
      }
    },
    {
      "cell_type": "code",
      "source": [
        "wzrost = pd.read_csv('Wzrost.csv')"
      ],
      "metadata": {
        "id": "BfjZEOcmutrj"
      },
      "execution_count": null,
      "outputs": []
    },
    {
      "cell_type": "code",
      "source": [
        "print_basic_stats(wzrost)"
      ],
      "metadata": {
        "colab": {
          "base_uri": "https://localhost:8080/"
        },
        "id": "grUqkWS_u4Rn",
        "outputId": "02350d34-f672-4fd0-8cc9-9aa2977edbe7"
      },
      "execution_count": null,
      "outputs": [
        {
          "output_type": "stream",
          "name": "stdout",
          "text": [
            "Max: 156      NaN\n",
            "158      NaN\n",
            "167      NaN\n",
            "188      NaN\n",
            "197      NaN\n",
            "167.1    NaN\n",
            "197.1    NaN\n",
            "178      NaN\n",
            "186      NaN\n",
            "157      NaN\n",
            "198      NaN\n",
            "199      NaN\n",
            "178.1    NaN\n",
            "168      NaN\n",
            "156.1    NaN\n",
            "151      NaN\n",
            "167.2    NaN\n",
            "167.3    NaN\n",
            "dtype: object\n",
            "Min: 156      NaN\n",
            "158      NaN\n",
            "167      NaN\n",
            "188      NaN\n",
            "197      NaN\n",
            "167.1    NaN\n",
            "197.1    NaN\n",
            "178      NaN\n",
            "186      NaN\n",
            "157      NaN\n",
            "198      NaN\n",
            "199      NaN\n",
            "178.1    NaN\n",
            "168      NaN\n",
            "156.1    NaN\n",
            "151      NaN\n",
            "167.2    NaN\n",
            "167.3    NaN\n",
            "dtype: object\n",
            "Mean: 156      NaN\n",
            "158      NaN\n",
            "167      NaN\n",
            "188      NaN\n",
            "197      NaN\n",
            "167.1    NaN\n",
            "197.1    NaN\n",
            "178      NaN\n",
            "186      NaN\n",
            "157      NaN\n",
            "198      NaN\n",
            "199      NaN\n",
            "178.1    NaN\n",
            "168      NaN\n",
            "156.1    NaN\n",
            "151      NaN\n",
            "167.2    NaN\n",
            "167.3    NaN\n",
            "dtype: object\n",
            "Median: nan\n",
            "Standard deviation: 156      NaN\n",
            "158      NaN\n",
            "167      NaN\n",
            "188      NaN\n",
            "197      NaN\n",
            "167.1    NaN\n",
            "197.1    NaN\n",
            "178      NaN\n",
            "186      NaN\n",
            "157      NaN\n",
            "198      NaN\n",
            "199      NaN\n",
            "178.1    NaN\n",
            "168      NaN\n",
            "156.1    NaN\n",
            "151      NaN\n",
            "167.2    NaN\n",
            "167.3    NaN\n",
            "dtype: object\n",
            "Variance: 156      NaN\n",
            "158      NaN\n",
            "167      NaN\n",
            "188      NaN\n",
            "197      NaN\n",
            "167.1    NaN\n",
            "197.1    NaN\n",
            "178      NaN\n",
            "186      NaN\n",
            "157      NaN\n",
            "198      NaN\n",
            "199      NaN\n",
            "178.1    NaN\n",
            "168      NaN\n",
            "156.1    NaN\n",
            "151      NaN\n",
            "167.2    NaN\n",
            "167.3    NaN\n",
            "dtype: object\n"
          ]
        },
        {
          "output_type": "stream",
          "name": "stderr",
          "text": [
            "/usr/local/lib/python3.10/dist-packages/numpy/core/fromnumeric.py:84: FutureWarning: In a future version, DataFrame.max(axis=None) will return a scalar max over the entire DataFrame. To retain the old behavior, use 'frame.max(axis=0)' or just 'frame.max()'\n",
            "  return reduction(axis=axis, out=out, **passkwargs)\n",
            "/usr/local/lib/python3.10/dist-packages/numpy/core/fromnumeric.py:84: FutureWarning: In a future version, DataFrame.min(axis=None) will return a scalar min over the entire DataFrame. To retain the old behavior, use 'frame.min(axis=0)' or just 'frame.min()'\n",
            "  return reduction(axis=axis, out=out, **passkwargs)\n",
            "/usr/local/lib/python3.10/dist-packages/numpy/core/fromnumeric.py:3430: FutureWarning: In a future version, DataFrame.mean(axis=None) will return a scalar mean over the entire DataFrame. To retain the old behavior, use 'frame.mean(axis=0)' or just 'frame.mean()'\n",
            "  return mean(axis=axis, dtype=dtype, out=out, **kwargs)\n",
            "/usr/local/lib/python3.10/dist-packages/numpy/core/fromnumeric.py:3432: RuntimeWarning: Mean of empty slice.\n",
            "  return _methods._mean(a, axis=axis, dtype=dtype,\n",
            "/usr/local/lib/python3.10/dist-packages/numpy/core/_methods.py:192: RuntimeWarning: invalid value encountered in long_scalars\n",
            "  ret = ret / rcount\n"
          ]
        }
      ]
    },
    {
      "cell_type": "code",
      "source": [
        "  import scipy.stats as scs"
      ],
      "metadata": {
        "id": "QJK4-aZoxxSE"
      },
      "execution_count": null,
      "outputs": []
    },
    {
      "cell_type": "markdown",
      "source": [
        "# Rozkłady prawdopodobieństwa zmiennej losowej, zadanie 1"
      ],
      "metadata": {
        "id": "dvp8nqtqxnbO"
      }
    },
    {
      "cell_type": "code",
      "source": [
        "    import scipy.stats as scs\n",
        "    p = 0.3\n",
        "    data = scs.bernoulli.rvs(p, size=1000)\n",
        "    mean, var, skew, kurt = scs.bernoulli.stats(p, moments ='mvsk')\n",
        "    print(mean, var, skew, kurt)"
      ],
      "metadata": {
        "colab": {
          "base_uri": "https://localhost:8080/"
        },
        "id": "qMLjDJJOwN7x",
        "outputId": "204fddb7-c31a-4053-e53d-855be195acef"
      },
      "execution_count": null,
      "outputs": [
        {
          "output_type": "stream",
          "name": "stdout",
          "text": [
            "0.3 0.21 0.8728715609439694 -1.2380952380952381\n"
          ]
        }
      ]
    },
    {
      "cell_type": "markdown",
      "source": [
        "#Rozkłady prawdopodobieństwa zmiennej losowej, zadanie 2"
      ],
      "metadata": {
        "id": "Dn4owUoEyNiK"
      }
    },
    {
      "cell_type": "code",
      "source": [
        "    #Bernoulli\n",
        "    import scipy.stats as scs\n",
        "    p = 0.3\n",
        "    data = scs.bernoulli.rvs(p, size=100)\n",
        "    mean, var, skew, kurt = scs.bernoulli.stats(p, moments ='mvsk')\n",
        "    print(mean, var, skew, kurt)\n",
        "\n",
        "    #Binomial\n",
        "    n, p = 5, 0.4\n",
        "    date = scs.binom.rvs(n, p, size=100)\n",
        "    mean, var, skew, kurt = scs.binom.stats(n, p, moments='mvsk')\n",
        "    print(mean, var, skew, kurt)\n",
        "\n",
        "    #Poisson\n",
        "    mu = 0.6\n",
        "    date = scs.poisson.rvs(mu,loc=0, size=100, random_state=None)\n",
        "    mean, var, skew, kurt = scs.poisson.stats(mu, moments='mvsk')\n",
        "    print(mean, var, skew, kurt)\n",
        "\n"
      ],
      "metadata": {
        "colab": {
          "base_uri": "https://localhost:8080/"
        },
        "id": "Wekk-ThoyNXt",
        "outputId": "d73040d5-74b2-4f4c-df63-d30f93e76c08"
      },
      "execution_count": null,
      "outputs": [
        {
          "output_type": "stream",
          "name": "stdout",
          "text": [
            "0.3 0.21 0.8728715609439694 -1.2380952380952381\n",
            "2.0 1.2 0.18257418583505533 -0.3666666666666668\n",
            "0.6 0.6 1.2909944487358056 1.6666666666666667\n"
          ]
        }
      ]
    },
    {
      "cell_type": "markdown",
      "source": [
        "#Testy statystyczne, zadanie 1"
      ],
      "metadata": {
        "id": "X62BQ4JjyYBq"
      }
    },
    {
      "cell_type": "code",
      "source": [
        "import scipy.stats as scs\n",
        "alpha = 0.01\n",
        "\n",
        "data = scs.norm.rvs(loc=2, scale=0.3, size=200)\n",
        "resultsNorm = scs.ttest_1samp(data, 2.5)\n",
        "if resultsNorm.pvalue < alpha:\n",
        "        print(\"Hipothesis rejected!\")\n",
        "else:\n",
        "        print(\"Hipothesis accepted\")\n"
      ],
      "metadata": {
        "colab": {
          "base_uri": "https://localhost:8080/"
        },
        "id": "JyWp-4LEyUkX",
        "outputId": "4b14bd10-f396-4e34-c6c4-6f30620413fa"
      },
      "execution_count": null,
      "outputs": [
        {
          "output_type": "stream",
          "name": "stdout",
          "text": [
            "Hipothesis rejected!\n"
          ]
        }
      ]
    },
    {
      "cell_type": "markdown",
      "source": [
        "#Testy statystyczne, zadanie 2"
      ],
      "metadata": {
        "id": "wTapm-DTy8Iq"
      }
    },
    {
      "cell_type": "code",
      "source": [
        "alpha = 0.05\n",
        "    drinks_data = pd.read_csv(\"napoje.csv\", sep=';', na_values='.')\n",
        "    drink_types = ['lech', 'cola', 'regional']\n",
        "    mean_values = [60500, 222000, 43500]\n",
        "    for k in range(0, len(mean_values)):\n",
        "        result = sps.ttest_1samp(drinks_data[drink_types[k]], mean_values[k])\n",
        "        print('Mean %s: %.2f. Tested value: %.2f' % (drink_types[k], drinks_data[drink_types[k]].mean(),mean_values[k]))\n",
        "\n",
        "        if result.pvalue < alpha:\n",
        "            print(\"Hipothesis rejected!\")\n",
        "        else:\n",
        "            print(\"Hipothesis accepted\")"
      ],
      "metadata": {
        "colab": {
          "base_uri": "https://localhost:8080/",
          "height": 142
        },
        "id": "oaBvRsTtygyh",
        "outputId": "29440682-f5c3-4edf-9f83-d8ef371bf0f8"
      },
      "execution_count": null,
      "outputs": [
        {
          "output_type": "error",
          "ename": "IndentationError",
          "evalue": "ignored",
          "traceback": [
            "\u001b[0;36m  File \u001b[0;32m\"<ipython-input-131-241d92152c0a>\"\u001b[0;36m, line \u001b[0;32m2\u001b[0m\n\u001b[0;31m    drinks_data = pd.read_csv(\"napoje.csv\", sep=';', na_values='.')\u001b[0m\n\u001b[0m    ^\u001b[0m\n\u001b[0;31mIndentationError\u001b[0m\u001b[0;31m:\u001b[0m unexpected indent\n"
          ]
        }
      ]
    },
    {
      "cell_type": "code",
      "source": [],
      "metadata": {
        "id": "ubNR2i9Sy_gw"
      },
      "execution_count": null,
      "outputs": []
    }
  ]
}