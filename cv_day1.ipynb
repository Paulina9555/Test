{
  "nbformat": 4,
  "nbformat_minor": 0,
  "metadata": {
    "colab": {
      "provenance": [],
      "include_colab_link": true
    },
    "kernelspec": {
      "display_name": "Python 3",
      "name": "python3"
    },
    "widgets": {
      "application/vnd.jupyter.widget-state+json": {
        "64083bf0680c46d8a4bafc81e9adf984": {
          "model_module": "@jupyter-widgets/controls",
          "model_name": "VBoxModel",
          "model_module_version": "1.5.0",
          "state": {
            "_view_name": "VBoxView",
            "_dom_classes": [
              "widget-interact"
            ],
            "_model_name": "VBoxModel",
            "_view_module": "@jupyter-widgets/controls",
            "_model_module_version": "1.5.0",
            "_view_count": null,
            "_view_module_version": "1.5.0",
            "box_style": "",
            "layout": "IPY_MODEL_4352353de03b459a802df50a206b8842",
            "_model_module": "@jupyter-widgets/controls",
            "children": [
              "IPY_MODEL_1c13d47e59d74d26822b7e803390559c",
              "IPY_MODEL_633e318f0cdb425286157140dbe4d4e9"
            ]
          }
        },
        "4352353de03b459a802df50a206b8842": {
          "model_module": "@jupyter-widgets/base",
          "model_name": "LayoutModel",
          "model_module_version": "1.2.0",
          "state": {
            "_view_name": "LayoutView",
            "grid_template_rows": null,
            "right": null,
            "justify_content": null,
            "_view_module": "@jupyter-widgets/base",
            "overflow": null,
            "_model_module_version": "1.2.0",
            "_view_count": null,
            "flex_flow": null,
            "width": null,
            "min_width": null,
            "border": null,
            "align_items": null,
            "bottom": null,
            "_model_module": "@jupyter-widgets/base",
            "top": null,
            "grid_column": null,
            "overflow_y": null,
            "overflow_x": null,
            "grid_auto_flow": null,
            "grid_area": null,
            "grid_template_columns": null,
            "flex": null,
            "_model_name": "LayoutModel",
            "justify_items": null,
            "grid_row": null,
            "max_height": null,
            "align_content": null,
            "visibility": null,
            "align_self": null,
            "height": null,
            "min_height": null,
            "padding": null,
            "grid_auto_rows": null,
            "grid_gap": null,
            "max_width": null,
            "order": null,
            "_view_module_version": "1.2.0",
            "grid_template_areas": null,
            "object_position": null,
            "object_fit": null,
            "grid_auto_columns": null,
            "margin": null,
            "display": null,
            "left": null
          }
        },
        "1c13d47e59d74d26822b7e803390559c": {
          "model_module": "@jupyter-widgets/controls",
          "model_name": "IntSliderModel",
          "model_module_version": "1.5.0",
          "state": {
            "_view_name": "IntSliderView",
            "style": "IPY_MODEL_6ea2111d6c4e435493fce3c721f87243",
            "_dom_classes": [],
            "description": "x",
            "step": 1,
            "_model_name": "IntSliderModel",
            "orientation": "horizontal",
            "max": 255,
            "_view_module": "@jupyter-widgets/controls",
            "_model_module_version": "1.5.0",
            "value": 144,
            "_view_count": null,
            "disabled": false,
            "_view_module_version": "1.5.0",
            "min": 0,
            "continuous_update": true,
            "readout_format": "d",
            "description_tooltip": null,
            "readout": true,
            "_model_module": "@jupyter-widgets/controls",
            "layout": "IPY_MODEL_bb777d30766e42e48dbaac974865b9be"
          }
        },
        "633e318f0cdb425286157140dbe4d4e9": {
          "model_module": "@jupyter-widgets/output",
          "model_name": "OutputModel",
          "model_module_version": "1.0.0",
          "state": {
            "_view_name": "OutputView",
            "msg_id": "",
            "_dom_classes": [],
            "_model_name": "OutputModel",
            "outputs": [
              {
                "output_type": "display_data",
                "data": {
                  "image/png": "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\n",
                  "text/plain": "<PIL.Image.Image image mode=L size=220x220 at 0x7FB0FC233250>"
                },
                "metadata": {}
              }
            ],
            "_view_module": "@jupyter-widgets/output",
            "_model_module_version": "1.0.0",
            "_view_count": null,
            "_view_module_version": "1.0.0",
            "layout": "IPY_MODEL_9a7a4d1690be476881fe1da0d436d61f",
            "_model_module": "@jupyter-widgets/output"
          }
        },
        "6ea2111d6c4e435493fce3c721f87243": {
          "model_module": "@jupyter-widgets/controls",
          "model_name": "SliderStyleModel",
          "model_module_version": "1.5.0",
          "state": {
            "_view_name": "StyleView",
            "handle_color": null,
            "_model_name": "SliderStyleModel",
            "description_width": "",
            "_view_module": "@jupyter-widgets/base",
            "_model_module_version": "1.5.0",
            "_view_count": null,
            "_view_module_version": "1.2.0",
            "_model_module": "@jupyter-widgets/controls"
          }
        },
        "bb777d30766e42e48dbaac974865b9be": {
          "model_module": "@jupyter-widgets/base",
          "model_name": "LayoutModel",
          "model_module_version": "1.2.0",
          "state": {
            "_view_name": "LayoutView",
            "grid_template_rows": null,
            "right": null,
            "justify_content": null,
            "_view_module": "@jupyter-widgets/base",
            "overflow": null,
            "_model_module_version": "1.2.0",
            "_view_count": null,
            "flex_flow": null,
            "width": null,
            "min_width": null,
            "border": null,
            "align_items": null,
            "bottom": null,
            "_model_module": "@jupyter-widgets/base",
            "top": null,
            "grid_column": null,
            "overflow_y": null,
            "overflow_x": null,
            "grid_auto_flow": null,
            "grid_area": null,
            "grid_template_columns": null,
            "flex": null,
            "_model_name": "LayoutModel",
            "justify_items": null,
            "grid_row": null,
            "max_height": null,
            "align_content": null,
            "visibility": null,
            "align_self": null,
            "height": null,
            "min_height": null,
            "padding": null,
            "grid_auto_rows": null,
            "grid_gap": null,
            "max_width": null,
            "order": null,
            "_view_module_version": "1.2.0",
            "grid_template_areas": null,
            "object_position": null,
            "object_fit": null,
            "grid_auto_columns": null,
            "margin": null,
            "display": null,
            "left": null
          }
        },
        "9a7a4d1690be476881fe1da0d436d61f": {
          "model_module": "@jupyter-widgets/base",
          "model_name": "LayoutModel",
          "model_module_version": "1.2.0",
          "state": {
            "_view_name": "LayoutView",
            "grid_template_rows": null,
            "right": null,
            "justify_content": null,
            "_view_module": "@jupyter-widgets/base",
            "overflow": null,
            "_model_module_version": "1.2.0",
            "_view_count": null,
            "flex_flow": null,
            "width": null,
            "min_width": null,
            "border": null,
            "align_items": null,
            "bottom": null,
            "_model_module": "@jupyter-widgets/base",
            "top": null,
            "grid_column": null,
            "overflow_y": null,
            "overflow_x": null,
            "grid_auto_flow": null,
            "grid_area": null,
            "grid_template_columns": null,
            "flex": null,
            "_model_name": "LayoutModel",
            "justify_items": null,
            "grid_row": null,
            "max_height": null,
            "align_content": null,
            "visibility": null,
            "align_self": null,
            "height": null,
            "min_height": null,
            "padding": null,
            "grid_auto_rows": null,
            "grid_gap": null,
            "max_width": null,
            "order": null,
            "_view_module_version": "1.2.0",
            "grid_template_areas": null,
            "object_position": null,
            "object_fit": null,
            "grid_auto_columns": null,
            "margin": null,
            "display": null,
            "left": null
          }
        },
        "41fb61e41f1d423997e826e21c942400": {
          "model_module": "@jupyter-widgets/controls",
          "model_name": "VBoxModel",
          "model_module_version": "1.5.0",
          "state": {
            "_view_name": "VBoxView",
            "_dom_classes": [
              "widget-interact"
            ],
            "_model_name": "VBoxModel",
            "_view_module": "@jupyter-widgets/controls",
            "_model_module_version": "1.5.0",
            "_view_count": null,
            "_view_module_version": "1.5.0",
            "box_style": "",
            "layout": "IPY_MODEL_63119aea178e4572b3e62ead0746928f",
            "_model_module": "@jupyter-widgets/controls",
            "children": [
              "IPY_MODEL_af86cd5bf4fa4934a6e94a07b8a792fa",
              "IPY_MODEL_4b46150efda449078326c34c8e5ff3b2",
              "IPY_MODEL_f062b6a24d2243c599e8c07ea262954a"
            ]
          }
        },
        "63119aea178e4572b3e62ead0746928f": {
          "model_module": "@jupyter-widgets/base",
          "model_name": "LayoutModel",
          "model_module_version": "1.2.0",
          "state": {
            "_view_name": "LayoutView",
            "grid_template_rows": null,
            "right": null,
            "justify_content": null,
            "_view_module": "@jupyter-widgets/base",
            "overflow": null,
            "_model_module_version": "1.2.0",
            "_view_count": null,
            "flex_flow": null,
            "width": null,
            "min_width": null,
            "border": null,
            "align_items": null,
            "bottom": null,
            "_model_module": "@jupyter-widgets/base",
            "top": null,
            "grid_column": null,
            "overflow_y": null,
            "overflow_x": null,
            "grid_auto_flow": null,
            "grid_area": null,
            "grid_template_columns": null,
            "flex": null,
            "_model_name": "LayoutModel",
            "justify_items": null,
            "grid_row": null,
            "max_height": null,
            "align_content": null,
            "visibility": null,
            "align_self": null,
            "height": null,
            "min_height": null,
            "padding": null,
            "grid_auto_rows": null,
            "grid_gap": null,
            "max_width": null,
            "order": null,
            "_view_module_version": "1.2.0",
            "grid_template_areas": null,
            "object_position": null,
            "object_fit": null,
            "grid_auto_columns": null,
            "margin": null,
            "display": null,
            "left": null
          }
        },
        "af86cd5bf4fa4934a6e94a07b8a792fa": {
          "model_module": "@jupyter-widgets/controls",
          "model_name": "IntSliderModel",
          "model_module_version": "1.5.0",
          "state": {
            "_view_name": "IntSliderView",
            "style": "IPY_MODEL_ec7ffdc542b5475fbd29bd82f453d1e1",
            "_dom_classes": [],
            "description": "x",
            "step": 2,
            "_model_name": "IntSliderModel",
            "orientation": "horizontal",
            "max": 15,
            "_view_module": "@jupyter-widgets/controls",
            "_model_module_version": "1.5.0",
            "value": 3,
            "_view_count": null,
            "disabled": false,
            "_view_module_version": "1.5.0",
            "min": 3,
            "continuous_update": true,
            "readout_format": "d",
            "description_tooltip": null,
            "readout": true,
            "_model_module": "@jupyter-widgets/controls",
            "layout": "IPY_MODEL_45039af446344779be457da341d9b5c7"
          }
        },
        "4b46150efda449078326c34c8e5ff3b2": {
          "model_module": "@jupyter-widgets/controls",
          "model_name": "CheckboxModel",
          "model_module_version": "1.5.0",
          "state": {
            "_view_name": "CheckboxView",
            "style": "IPY_MODEL_3952b666613a4b07a2905031ed8d7320",
            "_dom_classes": [],
            "description": "y",
            "_model_name": "CheckboxModel",
            "_view_module": "@jupyter-widgets/controls",
            "_model_module_version": "1.5.0",
            "value": true,
            "_view_count": null,
            "disabled": false,
            "_view_module_version": "1.5.0",
            "indent": true,
            "description_tooltip": null,
            "_model_module": "@jupyter-widgets/controls",
            "layout": "IPY_MODEL_9d56e0c5580d4dbe87c2b14668dfebcf"
          }
        },
        "f062b6a24d2243c599e8c07ea262954a": {
          "model_module": "@jupyter-widgets/output",
          "model_name": "OutputModel",
          "model_module_version": "1.0.0",
          "state": {
            "_view_name": "OutputView",
            "msg_id": "",
            "_dom_classes": [],
            "_model_name": "OutputModel",
            "outputs": [
              {
                "output_type": "display_data",
                "data": {
                  "image/png": "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\n",
                  "text/plain": "<PIL.Image.Image image mode=L size=220x220 at 0x7FB0FC4AC390>"
                },
                "metadata": {}
              }
            ],
            "_view_module": "@jupyter-widgets/output",
            "_model_module_version": "1.0.0",
            "_view_count": null,
            "_view_module_version": "1.0.0",
            "layout": "IPY_MODEL_c0e254ec98c94af2b3fa305dad2a097d",
            "_model_module": "@jupyter-widgets/output"
          }
        },
        "ec7ffdc542b5475fbd29bd82f453d1e1": {
          "model_module": "@jupyter-widgets/controls",
          "model_name": "SliderStyleModel",
          "model_module_version": "1.5.0",
          "state": {
            "_view_name": "StyleView",
            "handle_color": null,
            "_model_name": "SliderStyleModel",
            "description_width": "",
            "_view_module": "@jupyter-widgets/base",
            "_model_module_version": "1.5.0",
            "_view_count": null,
            "_view_module_version": "1.2.0",
            "_model_module": "@jupyter-widgets/controls"
          }
        },
        "45039af446344779be457da341d9b5c7": {
          "model_module": "@jupyter-widgets/base",
          "model_name": "LayoutModel",
          "model_module_version": "1.2.0",
          "state": {
            "_view_name": "LayoutView",
            "grid_template_rows": null,
            "right": null,
            "justify_content": null,
            "_view_module": "@jupyter-widgets/base",
            "overflow": null,
            "_model_module_version": "1.2.0",
            "_view_count": null,
            "flex_flow": null,
            "width": null,
            "min_width": null,
            "border": null,
            "align_items": null,
            "bottom": null,
            "_model_module": "@jupyter-widgets/base",
            "top": null,
            "grid_column": null,
            "overflow_y": null,
            "overflow_x": null,
            "grid_auto_flow": null,
            "grid_area": null,
            "grid_template_columns": null,
            "flex": null,
            "_model_name": "LayoutModel",
            "justify_items": null,
            "grid_row": null,
            "max_height": null,
            "align_content": null,
            "visibility": null,
            "align_self": null,
            "height": null,
            "min_height": null,
            "padding": null,
            "grid_auto_rows": null,
            "grid_gap": null,
            "max_width": null,
            "order": null,
            "_view_module_version": "1.2.0",
            "grid_template_areas": null,
            "object_position": null,
            "object_fit": null,
            "grid_auto_columns": null,
            "margin": null,
            "display": null,
            "left": null
          }
        },
        "3952b666613a4b07a2905031ed8d7320": {
          "model_module": "@jupyter-widgets/controls",
          "model_name": "DescriptionStyleModel",
          "model_module_version": "1.5.0",
          "state": {
            "_view_name": "StyleView",
            "_model_name": "DescriptionStyleModel",
            "description_width": "",
            "_view_module": "@jupyter-widgets/base",
            "_model_module_version": "1.5.0",
            "_view_count": null,
            "_view_module_version": "1.2.0",
            "_model_module": "@jupyter-widgets/controls"
          }
        },
        "9d56e0c5580d4dbe87c2b14668dfebcf": {
          "model_module": "@jupyter-widgets/base",
          "model_name": "LayoutModel",
          "model_module_version": "1.2.0",
          "state": {
            "_view_name": "LayoutView",
            "grid_template_rows": null,
            "right": null,
            "justify_content": null,
            "_view_module": "@jupyter-widgets/base",
            "overflow": null,
            "_model_module_version": "1.2.0",
            "_view_count": null,
            "flex_flow": null,
            "width": null,
            "min_width": null,
            "border": null,
            "align_items": null,
            "bottom": null,
            "_model_module": "@jupyter-widgets/base",
            "top": null,
            "grid_column": null,
            "overflow_y": null,
            "overflow_x": null,
            "grid_auto_flow": null,
            "grid_area": null,
            "grid_template_columns": null,
            "flex": null,
            "_model_name": "LayoutModel",
            "justify_items": null,
            "grid_row": null,
            "max_height": null,
            "align_content": null,
            "visibility": null,
            "align_self": null,
            "height": null,
            "min_height": null,
            "padding": null,
            "grid_auto_rows": null,
            "grid_gap": null,
            "max_width": null,
            "order": null,
            "_view_module_version": "1.2.0",
            "grid_template_areas": null,
            "object_position": null,
            "object_fit": null,
            "grid_auto_columns": null,
            "margin": null,
            "display": null,
            "left": null
          }
        },
        "c0e254ec98c94af2b3fa305dad2a097d": {
          "model_module": "@jupyter-widgets/base",
          "model_name": "LayoutModel",
          "model_module_version": "1.2.0",
          "state": {
            "_view_name": "LayoutView",
            "grid_template_rows": null,
            "right": null,
            "justify_content": null,
            "_view_module": "@jupyter-widgets/base",
            "overflow": null,
            "_model_module_version": "1.2.0",
            "_view_count": null,
            "flex_flow": null,
            "width": null,
            "min_width": null,
            "border": null,
            "align_items": null,
            "bottom": null,
            "_model_module": "@jupyter-widgets/base",
            "top": null,
            "grid_column": null,
            "overflow_y": null,
            "overflow_x": null,
            "grid_auto_flow": null,
            "grid_area": null,
            "grid_template_columns": null,
            "flex": null,
            "_model_name": "LayoutModel",
            "justify_items": null,
            "grid_row": null,
            "max_height": null,
            "align_content": null,
            "visibility": null,
            "align_self": null,
            "height": null,
            "min_height": null,
            "padding": null,
            "grid_auto_rows": null,
            "grid_gap": null,
            "max_width": null,
            "order": null,
            "_view_module_version": "1.2.0",
            "grid_template_areas": null,
            "object_position": null,
            "object_fit": null,
            "grid_auto_columns": null,
            "margin": null,
            "display": null,
            "left": null
          }
        },
        "4802c7170a5e43309b05d4781a5f8f19": {
          "model_module": "@jupyter-widgets/controls",
          "model_name": "VBoxModel",
          "model_module_version": "1.5.0",
          "state": {
            "_view_name": "VBoxView",
            "_dom_classes": [
              "widget-interact"
            ],
            "_model_name": "VBoxModel",
            "_view_module": "@jupyter-widgets/controls",
            "_model_module_version": "1.5.0",
            "_view_count": null,
            "_view_module_version": "1.5.0",
            "box_style": "",
            "layout": "IPY_MODEL_170bce65abaa4ba88b9e859be81c7961",
            "_model_module": "@jupyter-widgets/controls",
            "children": [
              "IPY_MODEL_daead6eda6d34cdc91d81d95ee48e1a1",
              "IPY_MODEL_80a92328c9fd4d2ea565d7c6fe19094c",
              "IPY_MODEL_60951aaa3f274f5bba4244688955ca62",
              "IPY_MODEL_676f0117e04f46818048fcf86b83699c"
            ]
          }
        },
        "170bce65abaa4ba88b9e859be81c7961": {
          "model_module": "@jupyter-widgets/base",
          "model_name": "LayoutModel",
          "model_module_version": "1.2.0",
          "state": {
            "_view_name": "LayoutView",
            "grid_template_rows": null,
            "right": null,
            "justify_content": null,
            "_view_module": "@jupyter-widgets/base",
            "overflow": null,
            "_model_module_version": "1.2.0",
            "_view_count": null,
            "flex_flow": null,
            "width": null,
            "min_width": null,
            "border": null,
            "align_items": null,
            "bottom": null,
            "_model_module": "@jupyter-widgets/base",
            "top": null,
            "grid_column": null,
            "overflow_y": null,
            "overflow_x": null,
            "grid_auto_flow": null,
            "grid_area": null,
            "grid_template_columns": null,
            "flex": null,
            "_model_name": "LayoutModel",
            "justify_items": null,
            "grid_row": null,
            "max_height": null,
            "align_content": null,
            "visibility": null,
            "align_self": null,
            "height": null,
            "min_height": null,
            "padding": null,
            "grid_auto_rows": null,
            "grid_gap": null,
            "max_width": null,
            "order": null,
            "_view_module_version": "1.2.0",
            "grid_template_areas": null,
            "object_position": null,
            "object_fit": null,
            "grid_auto_columns": null,
            "margin": null,
            "display": null,
            "left": null
          }
        },
        "daead6eda6d34cdc91d81d95ee48e1a1": {
          "model_module": "@jupyter-widgets/controls",
          "model_name": "DropdownModel",
          "model_module_version": "1.5.0",
          "state": {
            "_options_labels": [
              "Erosion",
              "Dilation",
              "Opening",
              "Closing"
            ],
            "_view_name": "DropdownView",
            "style": "IPY_MODEL_92e5465e7e2149a486aa7f4501668028",
            "_dom_classes": [],
            "description": "operation",
            "_model_name": "DropdownModel",
            "index": 1,
            "_view_module": "@jupyter-widgets/controls",
            "_model_module_version": "1.5.0",
            "_view_count": null,
            "disabled": false,
            "_view_module_version": "1.5.0",
            "description_tooltip": null,
            "_model_module": "@jupyter-widgets/controls",
            "layout": "IPY_MODEL_489c2adca53942eeb83714a43556da4f"
          }
        },
        "80a92328c9fd4d2ea565d7c6fe19094c": {
          "model_module": "@jupyter-widgets/controls",
          "model_name": "DropdownModel",
          "model_module_version": "1.5.0",
          "state": {
            "_options_labels": [
              "MORPH_RECT",
              "MORPH_ELLIPSE",
              "MORPH_CROSS"
            ],
            "_view_name": "DropdownView",
            "style": "IPY_MODEL_542e9260d51b4f9998a00ba35dd3ac85",
            "_dom_classes": [],
            "description": "struct_el",
            "_model_name": "DropdownModel",
            "index": 0,
            "_view_module": "@jupyter-widgets/controls",
            "_model_module_version": "1.5.0",
            "_view_count": null,
            "disabled": false,
            "_view_module_version": "1.5.0",
            "description_tooltip": null,
            "_model_module": "@jupyter-widgets/controls",
            "layout": "IPY_MODEL_a4ff34effa574783bd3395c30c86271d"
          }
        },
        "60951aaa3f274f5bba4244688955ca62": {
          "model_module": "@jupyter-widgets/controls",
          "model_name": "IntSliderModel",
          "model_module_version": "1.5.0",
          "state": {
            "_view_name": "IntSliderView",
            "style": "IPY_MODEL_efba6e776975494bb40c69e035de4123",
            "_dom_classes": [],
            "description": "size",
            "step": 2,
            "_model_name": "IntSliderModel",
            "orientation": "horizontal",
            "max": 15,
            "_view_module": "@jupyter-widgets/controls",
            "_model_module_version": "1.5.0",
            "value": 7,
            "_view_count": null,
            "disabled": false,
            "_view_module_version": "1.5.0",
            "min": 3,
            "continuous_update": true,
            "readout_format": "d",
            "description_tooltip": null,
            "readout": true,
            "_model_module": "@jupyter-widgets/controls",
            "layout": "IPY_MODEL_7974790f3e8a4371bfcf050ddfbaa170"
          }
        },
        "676f0117e04f46818048fcf86b83699c": {
          "model_module": "@jupyter-widgets/output",
          "model_name": "OutputModel",
          "model_module_version": "1.0.0",
          "state": {
            "_view_name": "OutputView",
            "msg_id": "",
            "_dom_classes": [],
            "_model_name": "OutputModel",
            "outputs": [
              {
                "output_type": "display_data",
                "data": {
                  "image/png": "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\n",
                  "text/plain": "<PIL.Image.Image image mode=L size=220x220 at 0x7FB0FC2338D0>"
                },
                "metadata": {}
              }
            ],
            "_view_module": "@jupyter-widgets/output",
            "_model_module_version": "1.0.0",
            "_view_count": null,
            "_view_module_version": "1.0.0",
            "layout": "IPY_MODEL_4f020006043749ffa1c808d768347a4e",
            "_model_module": "@jupyter-widgets/output"
          }
        },
        "92e5465e7e2149a486aa7f4501668028": {
          "model_module": "@jupyter-widgets/controls",
          "model_name": "DescriptionStyleModel",
          "model_module_version": "1.5.0",
          "state": {
            "_view_name": "StyleView",
            "_model_name": "DescriptionStyleModel",
            "description_width": "",
            "_view_module": "@jupyter-widgets/base",
            "_model_module_version": "1.5.0",
            "_view_count": null,
            "_view_module_version": "1.2.0",
            "_model_module": "@jupyter-widgets/controls"
          }
        },
        "489c2adca53942eeb83714a43556da4f": {
          "model_module": "@jupyter-widgets/base",
          "model_name": "LayoutModel",
          "model_module_version": "1.2.0",
          "state": {
            "_view_name": "LayoutView",
            "grid_template_rows": null,
            "right": null,
            "justify_content": null,
            "_view_module": "@jupyter-widgets/base",
            "overflow": null,
            "_model_module_version": "1.2.0",
            "_view_count": null,
            "flex_flow": null,
            "width": null,
            "min_width": null,
            "border": null,
            "align_items": null,
            "bottom": null,
            "_model_module": "@jupyter-widgets/base",
            "top": null,
            "grid_column": null,
            "overflow_y": null,
            "overflow_x": null,
            "grid_auto_flow": null,
            "grid_area": null,
            "grid_template_columns": null,
            "flex": null,
            "_model_name": "LayoutModel",
            "justify_items": null,
            "grid_row": null,
            "max_height": null,
            "align_content": null,
            "visibility": null,
            "align_self": null,
            "height": null,
            "min_height": null,
            "padding": null,
            "grid_auto_rows": null,
            "grid_gap": null,
            "max_width": null,
            "order": null,
            "_view_module_version": "1.2.0",
            "grid_template_areas": null,
            "object_position": null,
            "object_fit": null,
            "grid_auto_columns": null,
            "margin": null,
            "display": null,
            "left": null
          }
        },
        "542e9260d51b4f9998a00ba35dd3ac85": {
          "model_module": "@jupyter-widgets/controls",
          "model_name": "DescriptionStyleModel",
          "model_module_version": "1.5.0",
          "state": {
            "_view_name": "StyleView",
            "_model_name": "DescriptionStyleModel",
            "description_width": "",
            "_view_module": "@jupyter-widgets/base",
            "_model_module_version": "1.5.0",
            "_view_count": null,
            "_view_module_version": "1.2.0",
            "_model_module": "@jupyter-widgets/controls"
          }
        },
        "a4ff34effa574783bd3395c30c86271d": {
          "model_module": "@jupyter-widgets/base",
          "model_name": "LayoutModel",
          "model_module_version": "1.2.0",
          "state": {
            "_view_name": "LayoutView",
            "grid_template_rows": null,
            "right": null,
            "justify_content": null,
            "_view_module": "@jupyter-widgets/base",
            "overflow": null,
            "_model_module_version": "1.2.0",
            "_view_count": null,
            "flex_flow": null,
            "width": null,
            "min_width": null,
            "border": null,
            "align_items": null,
            "bottom": null,
            "_model_module": "@jupyter-widgets/base",
            "top": null,
            "grid_column": null,
            "overflow_y": null,
            "overflow_x": null,
            "grid_auto_flow": null,
            "grid_area": null,
            "grid_template_columns": null,
            "flex": null,
            "_model_name": "LayoutModel",
            "justify_items": null,
            "grid_row": null,
            "max_height": null,
            "align_content": null,
            "visibility": null,
            "align_self": null,
            "height": null,
            "min_height": null,
            "padding": null,
            "grid_auto_rows": null,
            "grid_gap": null,
            "max_width": null,
            "order": null,
            "_view_module_version": "1.2.0",
            "grid_template_areas": null,
            "object_position": null,
            "object_fit": null,
            "grid_auto_columns": null,
            "margin": null,
            "display": null,
            "left": null
          }
        },
        "efba6e776975494bb40c69e035de4123": {
          "model_module": "@jupyter-widgets/controls",
          "model_name": "SliderStyleModel",
          "model_module_version": "1.5.0",
          "state": {
            "_view_name": "StyleView",
            "handle_color": null,
            "_model_name": "SliderStyleModel",
            "description_width": "",
            "_view_module": "@jupyter-widgets/base",
            "_model_module_version": "1.5.0",
            "_view_count": null,
            "_view_module_version": "1.2.0",
            "_model_module": "@jupyter-widgets/controls"
          }
        },
        "7974790f3e8a4371bfcf050ddfbaa170": {
          "model_module": "@jupyter-widgets/base",
          "model_name": "LayoutModel",
          "model_module_version": "1.2.0",
          "state": {
            "_view_name": "LayoutView",
            "grid_template_rows": null,
            "right": null,
            "justify_content": null,
            "_view_module": "@jupyter-widgets/base",
            "overflow": null,
            "_model_module_version": "1.2.0",
            "_view_count": null,
            "flex_flow": null,
            "width": null,
            "min_width": null,
            "border": null,
            "align_items": null,
            "bottom": null,
            "_model_module": "@jupyter-widgets/base",
            "top": null,
            "grid_column": null,
            "overflow_y": null,
            "overflow_x": null,
            "grid_auto_flow": null,
            "grid_area": null,
            "grid_template_columns": null,
            "flex": null,
            "_model_name": "LayoutModel",
            "justify_items": null,
            "grid_row": null,
            "max_height": null,
            "align_content": null,
            "visibility": null,
            "align_self": null,
            "height": null,
            "min_height": null,
            "padding": null,
            "grid_auto_rows": null,
            "grid_gap": null,
            "max_width": null,
            "order": null,
            "_view_module_version": "1.2.0",
            "grid_template_areas": null,
            "object_position": null,
            "object_fit": null,
            "grid_auto_columns": null,
            "margin": null,
            "display": null,
            "left": null
          }
        },
        "4f020006043749ffa1c808d768347a4e": {
          "model_module": "@jupyter-widgets/base",
          "model_name": "LayoutModel",
          "model_module_version": "1.2.0",
          "state": {
            "_view_name": "LayoutView",
            "grid_template_rows": null,
            "right": null,
            "justify_content": null,
            "_view_module": "@jupyter-widgets/base",
            "overflow": null,
            "_model_module_version": "1.2.0",
            "_view_count": null,
            "flex_flow": null,
            "width": null,
            "min_width": null,
            "border": null,
            "align_items": null,
            "bottom": null,
            "_model_module": "@jupyter-widgets/base",
            "top": null,
            "grid_column": null,
            "overflow_y": null,
            "overflow_x": null,
            "grid_auto_flow": null,
            "grid_area": null,
            "grid_template_columns": null,
            "flex": null,
            "_model_name": "LayoutModel",
            "justify_items": null,
            "grid_row": null,
            "max_height": null,
            "align_content": null,
            "visibility": null,
            "align_self": null,
            "height": null,
            "min_height": null,
            "padding": null,
            "grid_auto_rows": null,
            "grid_gap": null,
            "max_width": null,
            "order": null,
            "_view_module_version": "1.2.0",
            "grid_template_areas": null,
            "object_position": null,
            "object_fit": null,
            "grid_auto_columns": null,
            "margin": null,
            "display": null,
            "left": null
          }
        }
      }
    }
  },
  "cells": [
    {
      "cell_type": "markdown",
      "metadata": {
        "id": "view-in-github",
        "colab_type": "text"
      },
      "source": [
        "<a href=\"https://colab.research.google.com/github/Paulina9555/Test/blob/master/cv_day1.ipynb\" target=\"_parent\"><img src=\"https://colab.research.google.com/assets/colab-badge.svg\" alt=\"Open In Colab\"/></a>"
      ]
    },
    {
      "cell_type": "markdown",
      "metadata": {
        "id": "p7eSkJxR_8jG"
      },
      "source": [
        "# Konfiguracja"
      ]
    },
    {
      "cell_type": "code",
      "metadata": {
        "id": "yUlMR35gDBcO",
        "colab": {
          "base_uri": "https://localhost:8080/"
        },
        "outputId": "c606b6d8-c207-47fa-da6e-01a203faf2aa"
      },
      "source": [
        "\n",
        "from google.colab import drive\n",
        "drive.mount('/content/drive/')\n"
      ],
      "execution_count": null,
      "outputs": [
        {
          "output_type": "stream",
          "name": "stdout",
          "text": [
            "Mounted at /content/drive/\n"
          ]
        }
      ]
    },
    {
      "cell_type": "code",
      "metadata": {
        "id": "zHgXj5GU8Aol",
        "colab": {
          "base_uri": "https://localhost:8080/"
        },
        "outputId": "d4293e57-ab56-4d90-9999-b61d328729cf"
      },
      "source": [
        "!ls -la '/content/drive/My Drive/Colab Notebooks/'"
      ],
      "execution_count": null,
      "outputs": [
        {
          "output_type": "stream",
          "name": "stdout",
          "text": [
            "total 27657\n",
            "-rw------- 1 root root   50673 Jul 30 13:36 '29, 30.07.2023.ipynb'\n",
            "-rw------- 1 root root  110193 Dec 29 14:33  3_4.ipynb\n",
            "-rw------- 1 root root  191197 Dec 29 14:01  biblioteka_tensorflow_zadania.ipynb\n",
            "-rw------- 1 root root 5450929 Dec 10 12:49 'computer vision.ipynb'\n",
            "-rw------- 1 root root    9053 Dec 29 14:40  computer_vision_zadanie.ipynb\n",
            "-rw------- 1 root root  961975 Dec 29 14:40  cv_day1.ipynb\n",
            "drwx------ 2 root root    4096 Aug  6 08:52  files\n",
            "-rw------- 1 root root 4624629 Oct 14 18:44  karmy_dla_psow.ipynb\n",
            "-rw------- 1 root root   80150 Dec 28 20:00  klasyfikacja_zadania.ipynb\n",
            "-rw------- 1 root root  432312 Nov 25 13:02 'Kopia notatnika Tensorflow_Exercises_part_1_pol40.ipynb'\n",
            "-rw------- 1 root root   81204 Nov 27 18:58 'Kopia notatnika Tensorflow_Exercises_part_4_pol40.ipynb'\n",
            "-rw------- 1 root root   22718 Dec  2 08:32 'Kopia notatnika Wstęp_do_sieci_3 pol 40.ipynb'\n",
            "-rw------- 1 root root 2403001 Nov 26 08:43 'Kopia notatnika Wstęp_do_sieci_cz_2 pol40.ipynb'\n",
            "-rw------- 1 root root 1363800 Nov 25 13:02 'Kopia notatnika Wstęp_do_sieci_neuronowych_cz1 pol40.ipynb'\n",
            "-rw------- 1 root root     830 Dec  2 08:21  MLP_sprawdzian.ipynb\n",
            "-rw------- 1 root root   10653 Dec  2 10:17 'MLP_sprawdzian_(rozwiązanie).ipynb'\n",
            "-rw------- 1 root root 3692010 Dec 28 20:25  problemy_klasyfikacji_w_uczeniu_nadzorowanym.ipynb\n",
            "-rw------- 1 root root     324 Dec 27 20:08 'problemy regresji_zadania.ipynb'\n",
            "-rw------- 1 root root 3498268 Dec 27 21:00  Progremy_regresji_w_uczeniu_nadzorowanym.ipynb\n",
            "-rw------- 1 root root  496862 Dec 28 20:24  projekt_klasyfikacja.ipynb\n",
            "-rw------- 1 root root  154165 Dec 27 21:11  projekt_regresja.ipynb\n",
            "-rw------- 1 root root  431139 Aug 27 17:59 'Przetwarzanie_zbiorow_danych_27 08 2023.ipynb'\n",
            "-rw------- 1 root root  132343 Dec 27 13:02  Przetwarzanie_zbiorow_danych_zadania_z_preski.ipynb\n",
            "-rw------- 1 root root   47046 Dec 26 14:06 'python w DS.ipynb'\n",
            "-rw------- 1 root root  138786 Dec 27 20:33  regresja.ipynb\n",
            "-rw------- 1 root root   68673 Dec 27 20:25 'regresja-odpowiedzi (1).ipynb'\n",
            "-rw------- 1 root root  162967 Dec 27 20:44  regresja-odpowiedzi.ipynb\n",
            "-rw------- 1 root root  366565 Aug 18 17:25 'Rozwiązania moje -  8. Essential mathematics for DS - tasks.ipynb'\n",
            "-rw------- 1 root root   65591 Jul 24 17:34  SDAkurs_22-23.07.2023.ipynb\n",
            "-rw------- 1 root root   59786 Jul 28 18:35 'SDA kurs_powtórka materiału.ipynb'\n",
            "-rw------- 1 root root  855856 Nov 27 18:55 'Sieci neuronowe_26.11.2023_Exercises_part_3.ipynb'\n",
            "-rw------- 1 root root  431971 Nov 25 18:27  sieci_neuronowe_tensorflow_25.11.2023.ipynb\n",
            "-rw------- 1 root root   13827 Dec 29 14:09  sieci-neuronowe_zadanie.ipynb\n",
            "-rw------- 1 root root   29042 Dec 29 14:13  sieci-neuronowe_zadanie_rozwiazanie.ipynb\n",
            "-rw------- 1 root root   30858 Sep 15 19:19 'SQLAlchemy_02 9 2023.ipynb'\n",
            "-rw------- 1 root root   41072 Dec 26 20:24  statystyka_i_prawdopodobienstwo.ipynb\n",
            "-rw------- 1 root root    6947 Dec  2 11:59  Tensorflow_Exercises_part_5_full_version_only.ipynb\n",
            "-rw------- 1 root root   13957 Dec  2 09:09  Tensorflow_Exercises_part_6_simple.ipynb\n",
            "-rw------- 1 root root   61749 Dec 29 13:47  uczenie_nienadzorowane.ipynb\n",
            "-rw------- 1 root root     306 Dec 29 14:36  Untitled\n",
            "-rw------- 1 root root     324 Dec  2 08:16  Untitled0.ipynb\n",
            "-rw------- 1 root root     306 Dec 29 13:51 'Untitled (1)'\n",
            "-rw------- 1 root root     306 Dec  2 12:03 'Untitled (10)'\n",
            "-rw------- 1 root root     306 Dec  2 10:27 'Untitled (11)'\n",
            "-rw------- 1 root root     324 Dec 29 14:38  Untitled1.ipynb\n",
            "-rw------- 1 root root     306 Dec 29 13:48 'Untitled (2)'\n",
            "-rw------- 1 root root     306 Dec 28 19:49 'Untitled (3)'\n",
            "-rw------- 1 root root     306 Dec 28 19:46 'Untitled (4)'\n",
            "-rw------- 1 root root     306 Dec 28 19:17 'Untitled (5)'\n",
            "-rw------- 1 root root     306 Dec 27 20:56 'Untitled (6)'\n",
            "-rw------- 1 root root     306 Dec 27 20:25 'Untitled (7)'\n",
            "-rw------- 1 root root     306 Dec  2 12:53 'Untitled (8)'\n",
            "-rw------- 1 root root     306 Dec  2 12:25 'Untitled (9)'\n",
            "-rw------- 1 root root 1705073 Dec 27 14:49  wizualizacje.ipynb\n",
            "-rw------- 1 root root     324 Dec 29 14:02  wstep_d0_sieci.ipynb\n"
          ]
        }
      ]
    },
    {
      "cell_type": "code",
      "metadata": {
        "id": "qdYl29M3B_Zo",
        "colab": {
          "base_uri": "https://localhost:8080/",
          "height": 333
        },
        "outputId": "8262a4ea-01e0-42b3-e954-8ea60e4b2bca"
      },
      "source": [
        "import cv2\n",
        "from google.colab.patches import cv2_imshow\n",
        "\n",
        "from ipywidgets import interact, interactive, fixed, interact_manual\n",
        "import ipywidgets as widgets\n",
        "\n",
        "img = cv2.imread('/content/drive/My Drive/Colab Notebooks/test.png')\n",
        "cv2_imshow(img)"
      ],
      "execution_count": null,
      "outputs": [
        {
          "output_type": "error",
          "ename": "AttributeError",
          "evalue": "ignored",
          "traceback": [
            "\u001b[0;31m---------------------------------------------------------------------------\u001b[0m",
            "\u001b[0;31mAttributeError\u001b[0m                            Traceback (most recent call last)",
            "\u001b[0;32m<ipython-input-4-4f9baf0a4298>\u001b[0m in \u001b[0;36m<cell line: 8>\u001b[0;34m()\u001b[0m\n\u001b[1;32m      6\u001b[0m \u001b[0;34m\u001b[0m\u001b[0m\n\u001b[1;32m      7\u001b[0m \u001b[0mimg\u001b[0m \u001b[0;34m=\u001b[0m \u001b[0mcv2\u001b[0m\u001b[0;34m.\u001b[0m\u001b[0mimread\u001b[0m\u001b[0;34m(\u001b[0m\u001b[0;34m'/content/drive/My Drive/Colab Notebooks/test.png'\u001b[0m\u001b[0;34m)\u001b[0m\u001b[0;34m\u001b[0m\u001b[0;34m\u001b[0m\u001b[0m\n\u001b[0;32m----> 8\u001b[0;31m \u001b[0mcv2_imshow\u001b[0m\u001b[0;34m(\u001b[0m\u001b[0mimg\u001b[0m\u001b[0;34m)\u001b[0m\u001b[0;34m\u001b[0m\u001b[0;34m\u001b[0m\u001b[0m\n\u001b[0m",
            "\u001b[0;32m/usr/local/lib/python3.10/dist-packages/google/colab/patches/__init__.py\u001b[0m in \u001b[0;36mcv2_imshow\u001b[0;34m(a)\u001b[0m\n\u001b[1;32m     16\u001b[0m       \u001b[0;34m(\u001b[0m\u001b[0mN\u001b[0m\u001b[0;34m,\u001b[0m \u001b[0mM\u001b[0m\u001b[0;34m,\u001b[0m \u001b[0;36m4\u001b[0m\u001b[0;34m)\u001b[0m \u001b[0;32mis\u001b[0m \u001b[0man\u001b[0m \u001b[0mNxM\u001b[0m \u001b[0mBGRA\u001b[0m \u001b[0mcolor\u001b[0m \u001b[0mimage\u001b[0m\u001b[0;34m.\u001b[0m\u001b[0;34m\u001b[0m\u001b[0;34m\u001b[0m\u001b[0m\n\u001b[1;32m     17\u001b[0m   \"\"\"\n\u001b[0;32m---> 18\u001b[0;31m   \u001b[0ma\u001b[0m \u001b[0;34m=\u001b[0m \u001b[0ma\u001b[0m\u001b[0;34m.\u001b[0m\u001b[0mclip\u001b[0m\u001b[0;34m(\u001b[0m\u001b[0;36m0\u001b[0m\u001b[0;34m,\u001b[0m \u001b[0;36m255\u001b[0m\u001b[0;34m)\u001b[0m\u001b[0;34m.\u001b[0m\u001b[0mastype\u001b[0m\u001b[0;34m(\u001b[0m\u001b[0;34m'uint8'\u001b[0m\u001b[0;34m)\u001b[0m\u001b[0;34m\u001b[0m\u001b[0;34m\u001b[0m\u001b[0m\n\u001b[0m\u001b[1;32m     19\u001b[0m   \u001b[0;31m# cv2 stores colors as BGR; convert to RGB\u001b[0m\u001b[0;34m\u001b[0m\u001b[0;34m\u001b[0m\u001b[0m\n\u001b[1;32m     20\u001b[0m   \u001b[0;32mif\u001b[0m \u001b[0ma\u001b[0m\u001b[0;34m.\u001b[0m\u001b[0mndim\u001b[0m \u001b[0;34m==\u001b[0m \u001b[0;36m3\u001b[0m\u001b[0;34m:\u001b[0m\u001b[0;34m\u001b[0m\u001b[0;34m\u001b[0m\u001b[0m\n",
            "\u001b[0;31mAttributeError\u001b[0m: 'NoneType' object has no attribute 'clip'"
          ]
        }
      ]
    },
    {
      "cell_type": "markdown",
      "metadata": {
        "id": "b9_Pu1-1SN2g"
      },
      "source": [
        "# Filtry"
      ]
    },
    {
      "cell_type": "code",
      "metadata": {
        "colab": {
          "base_uri": "https://localhost:8080/",
          "height": 367
        },
        "id": "NDYrenzdHJYO",
        "outputId": "0f654d3f-1946-410c-cf6c-fc90a1ef4a10"
      },
      "source": [
        "#Filtry\n",
        "\n",
        "import numpy as np\n",
        "\n",
        "def apply_filter(source, kernel):\n",
        "  new_image = cv2.filter2D(source, -1, kernel)\n",
        "  cv2_imshow(new_image)\n",
        "  return new_image\n",
        "\n",
        "\n",
        "#idendity\n",
        "idendity_kernel = np.array([[0, 0, 0],\n",
        "                            [0, 1, 0],\n",
        "                            [0, 0, 0]])\n",
        "apply_filter(img, idendity_kernel)\n",
        "\n",
        "#blur\n",
        "blur_kernel = np.ones((3, 3), np.float32) / 9\n",
        "apply_filter(img, blur_kernel)\n",
        "\n",
        "#sharpen\n",
        "sharpen_kernel = np.array([[0, -1, 0],\n",
        "                           [-1, 5, -1],\n",
        "                           [0, -1, 0]])\n",
        "\n",
        "apply_filter(img, sharpen_kernel)\n",
        "\n",
        "gray_img = cv2.cvtColor(img, cv2.COLOR_BGR2GRAY)\n",
        "\n",
        "#simply_edge_detection\n",
        "simply_edge_kernel = np.array([[-1, -1, -1],\n",
        "                               [-1, 8, -1],\n",
        "                               [-1, -1, -1]])\n",
        "\n",
        "apply_filter(gray_img, simply_edge_kernel)\n",
        "\n",
        "#bottom sobel\n",
        "bottom_sobel_kernel = np.array([[-1, -2, -1],\n",
        "                                [0, 0, 0],\n",
        "                                [1, 2, 1]])\n",
        "\n",
        "bottom_sobel = apply_filter(gray_img, bottom_sobel_kernel)\n",
        "\n",
        "#bottom sobel\n",
        "left_sobel_kernel = np.array([[1, 0, -1],\n",
        "                              [2, 0, -2],\n",
        "                              [1, 0, -1]])\n",
        "\n",
        "left_sobel = apply_filter(gray_img, left_sobel_kernel)\n",
        "\n",
        "\n",
        "#sobel\n",
        "sobel = left_sobel/2 + bottom_sobel/2\n",
        "cv2_imshow(sobel)\n",
        "\n"
      ],
      "execution_count": null,
      "outputs": [
        {
          "output_type": "error",
          "ename": "error",
          "evalue": "ignored",
          "traceback": [
            "\u001b[0;31m---------------------------------------------------------------------------\u001b[0m",
            "\u001b[0;31merror\u001b[0m                                     Traceback (most recent call last)",
            "\u001b[0;32m<ipython-input-5-07f47b62a8ba>\u001b[0m in \u001b[0;36m<cell line: 15>\u001b[0;34m()\u001b[0m\n\u001b[1;32m     13\u001b[0m                             \u001b[0;34m[\u001b[0m\u001b[0;36m0\u001b[0m\u001b[0;34m,\u001b[0m \u001b[0;36m1\u001b[0m\u001b[0;34m,\u001b[0m \u001b[0;36m0\u001b[0m\u001b[0;34m]\u001b[0m\u001b[0;34m,\u001b[0m\u001b[0;34m\u001b[0m\u001b[0;34m\u001b[0m\u001b[0m\n\u001b[1;32m     14\u001b[0m                             [0, 0, 0]])\n\u001b[0;32m---> 15\u001b[0;31m \u001b[0mapply_filter\u001b[0m\u001b[0;34m(\u001b[0m\u001b[0mimg\u001b[0m\u001b[0;34m,\u001b[0m \u001b[0midendity_kernel\u001b[0m\u001b[0;34m)\u001b[0m\u001b[0;34m\u001b[0m\u001b[0;34m\u001b[0m\u001b[0m\n\u001b[0m\u001b[1;32m     16\u001b[0m \u001b[0;34m\u001b[0m\u001b[0m\n\u001b[1;32m     17\u001b[0m \u001b[0;31m#blur\u001b[0m\u001b[0;34m\u001b[0m\u001b[0;34m\u001b[0m\u001b[0m\n",
            "\u001b[0;32m<ipython-input-5-07f47b62a8ba>\u001b[0m in \u001b[0;36mapply_filter\u001b[0;34m(source, kernel)\u001b[0m\n\u001b[1;32m      4\u001b[0m \u001b[0;34m\u001b[0m\u001b[0m\n\u001b[1;32m      5\u001b[0m \u001b[0;32mdef\u001b[0m \u001b[0mapply_filter\u001b[0m\u001b[0;34m(\u001b[0m\u001b[0msource\u001b[0m\u001b[0;34m,\u001b[0m \u001b[0mkernel\u001b[0m\u001b[0;34m)\u001b[0m\u001b[0;34m:\u001b[0m\u001b[0;34m\u001b[0m\u001b[0;34m\u001b[0m\u001b[0m\n\u001b[0;32m----> 6\u001b[0;31m   \u001b[0mnew_image\u001b[0m \u001b[0;34m=\u001b[0m \u001b[0mcv2\u001b[0m\u001b[0;34m.\u001b[0m\u001b[0mfilter2D\u001b[0m\u001b[0;34m(\u001b[0m\u001b[0msource\u001b[0m\u001b[0;34m,\u001b[0m \u001b[0;34m-\u001b[0m\u001b[0;36m1\u001b[0m\u001b[0;34m,\u001b[0m \u001b[0mkernel\u001b[0m\u001b[0;34m)\u001b[0m\u001b[0;34m\u001b[0m\u001b[0;34m\u001b[0m\u001b[0m\n\u001b[0m\u001b[1;32m      7\u001b[0m   \u001b[0mcv2_imshow\u001b[0m\u001b[0;34m(\u001b[0m\u001b[0mnew_image\u001b[0m\u001b[0;34m)\u001b[0m\u001b[0;34m\u001b[0m\u001b[0;34m\u001b[0m\u001b[0m\n\u001b[1;32m      8\u001b[0m   \u001b[0;32mreturn\u001b[0m \u001b[0mnew_image\u001b[0m\u001b[0;34m\u001b[0m\u001b[0;34m\u001b[0m\u001b[0m\n",
            "\u001b[0;31merror\u001b[0m: OpenCV(4.8.0) /io/opencv/modules/imgproc/src/filter.dispatch.cpp:1530: error: (-215:Assertion failed) !_src.empty() in function 'filter2D'\n"
          ]
        }
      ]
    },
    {
      "cell_type": "markdown",
      "metadata": {
        "id": "9j96w7lMSbJl"
      },
      "source": [
        "# Wyrównanie histogramu"
      ]
    },
    {
      "cell_type": "code",
      "metadata": {
        "colab": {
          "base_uri": "https://localhost:8080/",
          "height": 269
        },
        "id": "UdUJiMaYA-kG",
        "outputId": "c200adf3-d619-4aa1-e019-5e49f9306522"
      },
      "source": [
        "import matplotlib.pyplot as plt\n",
        "\n",
        "def show_histogram(image):\n",
        "  ax1 = plt.subplot(331)\n",
        "  plt.xlim([0, 256])\n",
        "  plt.ylim([0, 4000])\n",
        "  for i, col in enumerate(['b', 'g', 'r']):\n",
        "\n",
        "      hist = cv2.calcHist([image], [i], None, [256], [0, 256])\n",
        "      ax1 = plt.subplot(3,1,i+1, sharey=ax1)\n",
        "      plt.plot(hist, color = col)\n",
        "\n",
        "      if i<2:\n",
        "        plt.setp(ax1.get_xticklabels(), visible=False)\n",
        "\n",
        "  plt.show()\n",
        "\n",
        "show_histogram(img)"
      ],
      "execution_count": null,
      "outputs": [
        {
          "output_type": "display_data",
          "data": {
            "image/png": "[encoded data removed]",
            "text/plain": [
              "<Figure size 432x288 with 3 Axes>"
            ]
          },
          "metadata": {
            "needs_background": "light"
          }
        }
      ]
    },
    {
      "cell_type": "code",
      "metadata": {
        "colab": {
          "base_uri": "https://localhost:8080/",
          "height": 489
        },
        "id": "RQdCkdJuSgRB",
        "outputId": "ae0a7ce3-0b50-4e35-f55a-edb8c1d422f9"
      },
      "source": [
        "def show_hsv_equalized(image):\n",
        "    new_image = cv2.cvtColor(image, cv2.COLOR_BGR2HSV)\n",
        "    H, S, V = cv2.split(new_image)\n",
        "    eq_H = cv2.equalizeHist(H)\n",
        "    eq_S = cv2.equalizeHist(S)\n",
        "    eq_V = cv2.equalizeHist(V)\n",
        "    eq_image = cv2.cvtColor(cv2.merge([H, eq_S, eq_V]), cv2.COLOR_HSV2BGR)\n",
        "    cv2_imshow(eq_image)\n",
        "    show_histogram(eq_image)\n",
        "\n",
        "show_hsv_equalized(img)"
      ],
      "execution_count": null,
      "outputs": [
        {
          "output_type": "display_data",
          "data": {
            "image/png": "[encoded data removed]",
            "text/plain": [
              "<PIL.Image.Image image mode=RGB size=220x220 at 0x7FB0FC3774D0>"
            ]
          },
          "metadata": {}
        },
        {
          "output_type": "display_data",
          "data": {
            "image/png": "[encoded data removed]",
            "text/plain": [
              "<Figure size 432x288 with 3 Axes>"
            ]
          },
          "metadata": {
            "needs_background": "light"
          }
        }
      ]
    },
    {
      "cell_type": "markdown",
      "metadata": {
        "id": "UaByMNkPNVJN"
      },
      "source": [
        "# Progresja"
      ]
    },
    {
      "cell_type": "code",
      "metadata": {
        "colab": {
          "base_uri": "https://localhost:8080/",
          "height": 269,
          "referenced_widgets": [
            "64083bf0680c46d8a4bafc81e9adf984",
            "4352353de03b459a802df50a206b8842",
            "1c13d47e59d74d26822b7e803390559c",
            "633e318f0cdb425286157140dbe4d4e9",
            "6ea2111d6c4e435493fce3c721f87243",
            "bb777d30766e42e48dbaac974865b9be",
            "9a7a4d1690be476881fe1da0d436d61f"
          ]
        },
        "id": "dhZhGbMBNZ4p",
        "outputId": "148cc01d-1472-4d85-f071-704e1319064e"
      },
      "source": [
        "def threshold(image):\n",
        "  @interact(x=widgets.IntSlider(min=0, max=255, step=1, value=100))\n",
        "  def trackbar(x):\n",
        "    gray_img = cv2.cvtColor(img, cv2.COLOR_BGR2GRAY)\n",
        "    _,thresh1 = cv2.threshold(gray_img,x,255,cv2.THRESH_BINARY)\n",
        "    cv2_imshow(thresh1)\n",
        "\n",
        "threshold(img)"
      ],
      "execution_count": null,
      "outputs": [
        {
          "output_type": "display_data",
          "data": {
            "application/vnd.jupyter.widget-view+json": {
              "model_id": "64083bf0680c46d8a4bafc81e9adf984",
              "version_minor": 0,
              "version_major": 2
            },
            "text/plain": [
              "interactive(children=(IntSlider(value=100, description='x', max=255), Output()), _dom_classes=('widget-interac…"
            ]
          },
          "metadata": {}
        }
      ]
    },
    {
      "cell_type": "code",
      "metadata": {
        "colab": {
          "base_uri": "https://localhost:8080/",
          "height": 301,
          "referenced_widgets": [
            "41fb61e41f1d423997e826e21c942400",
            "63119aea178e4572b3e62ead0746928f",
            "af86cd5bf4fa4934a6e94a07b8a792fa",
            "4b46150efda449078326c34c8e5ff3b2",
            "f062b6a24d2243c599e8c07ea262954a",
            "ec7ffdc542b5475fbd29bd82f453d1e1",
            "45039af446344779be457da341d9b5c7",
            "3952b666613a4b07a2905031ed8d7320",
            "9d56e0c5580d4dbe87c2b14668dfebcf",
            "c0e254ec98c94af2b3fa305dad2a097d"
          ]
        },
        "id": "F5BO2-waQeFV",
        "outputId": "5d3f844f-b6fc-457d-b398-911eaa67883d"
      },
      "source": [
        "def adaptive_threshold(image):\n",
        "  @interact(x=widgets.IntSlider(min=3, max=15, step=2, value=9), y=True)\n",
        "  def trackbar(x, y):\n",
        "    gray_img = cv2.cvtColor(img, cv2.COLOR_BGR2GRAY)\n",
        "\n",
        "    if y:\n",
        "      adaptive_method = cv2.ADAPTIVE_THRESH_MEAN_C\n",
        "    else:\n",
        "      adaptive_method = cv2.ADAPTIVE_THRESH_GAUSSIAN_C\n",
        "\n",
        "    result = cv2.adaptiveThreshold(gray_img,255,adaptive_method,\n",
        "                                      cv2.THRESH_BINARY,x,2)\n",
        "    cv2_imshow(result)\n",
        "\n",
        "\n",
        "adaptive_threshold(img)"
      ],
      "execution_count": null,
      "outputs": [
        {
          "output_type": "display_data",
          "data": {
            "application/vnd.jupyter.widget-view+json": {
              "model_id": "41fb61e41f1d423997e826e21c942400",
              "version_minor": 0,
              "version_major": 2
            },
            "text/plain": [
              "interactive(children=(IntSlider(value=9, description='x', max=15, min=3, step=2), Checkbox(value=True, descrip…"
            ]
          },
          "metadata": {}
        }
      ]
    },
    {
      "cell_type": "markdown",
      "metadata": {
        "id": "1171h1-bXBpG"
      },
      "source": [
        "# Operacja morfologiczna"
      ]
    },
    {
      "cell_type": "code",
      "metadata": {
        "colab": {
          "base_uri": "https://localhost:8080/",
          "height": 553,
          "referenced_widgets": [
            "4802c7170a5e43309b05d4781a5f8f19",
            "170bce65abaa4ba88b9e859be81c7961",
            "daead6eda6d34cdc91d81d95ee48e1a1",
            "80a92328c9fd4d2ea565d7c6fe19094c",
            "60951aaa3f274f5bba4244688955ca62",
            "676f0117e04f46818048fcf86b83699c",
            "92e5465e7e2149a486aa7f4501668028",
            "489c2adca53942eeb83714a43556da4f",
            "542e9260d51b4f9998a00ba35dd3ac85",
            "a4ff34effa574783bd3395c30c86271d",
            "efba6e776975494bb40c69e035de4123",
            "7974790f3e8a4371bfcf050ddfbaa170",
            "4f020006043749ffa1c808d768347a4e"
          ]
        },
        "id": "tx6ddsbeXH32",
        "outputId": "8ab4aefb-f1db-4e17-e93d-a210afe35bc1"
      },
      "source": [
        "def morphological_operation(image):\n",
        "\n",
        "  def opening(img, kernel):\n",
        "    return cv2.morphologyEx(img, cv2.MORPH_OPEN, kernel)\n",
        "\n",
        "  def closing(img, kernel):\n",
        "    return cv2.morphologyEx(img, cv2.MORPH_CLOSE, kernel)\n",
        "\n",
        "  @interact(operation=['Erosion','Dilation', 'Opening', 'Closing'],\n",
        "            struct_el=['MORPH_RECT','MORPH_ELLIPSE', 'MORPH_CROSS'],\n",
        "            size = widgets.IntSlider(min=3, max=15, step=2, value=5))\n",
        "  def trackbar(operation, struct_el, size):\n",
        "    operation_dict = {'Erosion': cv2.erode,'Dilation': cv2.dilate,\n",
        "                      'Opening': opening, 'Closing': closing}\n",
        "    struct_el_dict = {'MORPH_RECT': cv2.getStructuringElement(cv2.MORPH_RECT,(size, size)),\n",
        "                      'MORPH_ELLIPSE': cv2.getStructuringElement(cv2.MORPH_ELLIPSE,(size, size)),\n",
        "                      'MORPH_CROSS': cv2.getStructuringElement(cv2.MORPH_CROSS,(size, size))}\n",
        "    result = operation_dict[operation](image, struct_el_dict[struct_el])\n",
        "    cv2_imshow(result)\n",
        "\n",
        "\n",
        "#using sobel output form above\n",
        "sobel[sobel>30] = 255\n",
        "cv2_imshow(sobel)\n",
        "morphological_operation(sobel)\n"
      ],
      "execution_count": null,
      "outputs": [
        {
          "output_type": "display_data",
          "data": {
            "image/png": "[encoded data removed]",
            "text/plain": [
              "<PIL.Image.Image image mode=L size=220x220 at 0x7FB0FC2381D0>"
            ]
          },
          "metadata": {}
        },
        {
          "output_type": "display_data",
          "data": {
            "application/vnd.jupyter.widget-view+json": {
              "model_id": "4802c7170a5e43309b05d4781a5f8f19",
              "version_minor": 0,
              "version_major": 2
            },
            "text/plain": [
              "interactive(children=(Dropdown(description='operation', options=('Erosion', 'Dilation', 'Opening', 'Closing'),…"
            ]
          },
          "metadata": {}
        }
      ]
    },
    {
      "cell_type": "markdown",
      "metadata": {
        "id": "Aa74qglYX6mi"
      },
      "source": [
        "# Ekstrakcja cech charakterystycznych"
      ]
    },
    {
      "cell_type": "code",
      "metadata": {
        "id": "gU7fojMnX6Jr",
        "colab": {
          "base_uri": "https://localhost:8080/",
          "height": 388
        },
        "outputId": "c52e8a11-d08a-4f85-d32f-fdbf9f607de9"
      },
      "source": [
        "import numpy as np\n",
        "shapes = cv2.imread('/content/drive/My Drive/Colab Notebooks/contours.png')\n",
        "\n",
        "gray_shapes = cv2.cvtColor(shapes, cv2.COLOR_BGR2GRAY)\n",
        "_,thresh1 = cv2.threshold(gray_shapes,50,255,cv2.THRESH_BINARY)\n",
        "cv2_imshow(thresh1)"
      ],
      "execution_count": null,
      "outputs": [
        {
          "output_type": "display_data",
          "data": {
            "image/png": "[encoded data removed]",
            "text/plain": [
              "<PIL.Image.Image image mode=L size=846x470 at 0x7FB0FC233F90>"
            ]
          },
          "metadata": {}
        }
      ]
    },
    {
      "cell_type": "code",
      "metadata": {
        "id": "RbEcNq6sZz53",
        "colab": {
          "base_uri": "https://localhost:8080/",
          "height": 813
        },
        "outputId": "9ecd5cca-7fc9-4e1f-bb07-c1f345b3be79"
      },
      "source": [
        "contours, hierarchy\t=\tcv2.findContours(thresh1, cv2.RETR_TREE, cv2.CHAIN_APPROX_SIMPLE)\n",
        "img_with_contours = cv2.drawContours(shapes, contours, -1, (255,0,0), 3)\n",
        "cv2_imshow(img_with_contours)\n",
        "print(hierarchy)"
      ],
      "execution_count": null,
      "outputs": [
        {
          "output_type": "display_data",
          "data": {
            "image/png": "[encoded data removed]",
            "text/plain": [
              "<PIL.Image.Image image mode=RGB size=846x470 at 0x7FB0FC238850>"
            ]
          },
          "metadata": {}
        },
        {
          "output_type": "stream",
          "name": "stdout",
          "text": [
            "[[[ 1 -1 -1 -1]\n",
            "  [ 2  0 -1 -1]\n",
            "  [ 5  1  3 -1]\n",
            "  [-1 -1  4  2]\n",
            "  [-1 -1 -1  3]\n",
            "  [ 6  2 -1 -1]\n",
            "  [ 7  5 -1 -1]\n",
            "  [ 9  6  8 -1]\n",
            "  [-1 -1 -1  7]\n",
            "  [10  7 -1 -1]\n",
            "  [11  9 -1 -1]\n",
            "  [12 10 -1 -1]\n",
            "  [13 11 -1 -1]\n",
            "  [14 12 -1 -1]\n",
            "  [15 13 -1 -1]\n",
            "  [16 14 -1 -1]\n",
            "  [17 15 -1 -1]\n",
            "  [19 16 18 -1]\n",
            "  [-1 -1 -1 17]\n",
            "  [20 17 -1 -1]\n",
            "  [21 19 -1 -1]\n",
            "  [24 20 22 -1]\n",
            "  [-1 -1 23 21]\n",
            "  [-1 -1 -1 22]\n",
            "  [-1 21 -1 -1]]]\n"
          ]
        }
      ]
    },
    {
      "cell_type": "code",
      "metadata": {
        "id": "VousIkzooRH6",
        "colab": {
          "base_uri": "https://localhost:8080/"
        },
        "outputId": "a80a054f-3c56-4d81-a590-21c88fd6d552"
      },
      "source": [
        "# Pozbyć się wewnętrznych konturów, wydobyć informacje o dziecku\n",
        "\n",
        "filtered_contours = []\n",
        "has_a_child = []\n",
        "\n",
        "for contour, h in zip(contours, hierarchy[0]):\n",
        "  if h[3] == -1:\n",
        "    filtered_contours.append(contour)\n",
        "    if h[2] != -1:\n",
        "      has_a_child.append(1)\n",
        "    else:\n",
        "      has_a_child.append(0)\n",
        "\n",
        "print(has_a_child)"
      ],
      "execution_count": null,
      "outputs": [
        {
          "output_type": "stream",
          "name": "stdout",
          "text": [
            "[0, 0, 1, 0, 0, 1, 0, 0, 0, 0, 0, 0, 0, 0, 1, 0, 0, 1, 0]\n"
          ]
        }
      ]
    },
    {
      "cell_type": "code",
      "metadata": {
        "id": "hlcZZbqF4A6f"
      },
      "source": [
        "# Pobierz wszystkie użyteczne informacje z konturów\n",
        "features_list = []\n",
        "\n",
        "for contour, childs in zip(filtered_contours, has_a_child):\n",
        "  print(contour)\n",
        "  moments = cv2.moments(contour)\n",
        "  hu_moments = cv2.HuMoments(moments)\n",
        "\n",
        "  contour_area = cv2.contourArea(contour)\n",
        "  arc_length = cv2.arcLength(contour, True)\n",
        "  if arc_length > 0:\n",
        "    features = {x: hu[0] for x, hu in enumerate(hu_moments)}\n",
        "    features['circularity'] = 4 * 3.14 * contour_area / arc_length**2\n",
        "    features['has_child'] = childs\n",
        "    features_list.append(features)"
      ],
      "execution_count": null,
      "outputs": []
    },
    {
      "cell_type": "code",
      "metadata": {
        "id": "9i6pIfTn6Gyb",
        "colab": {
          "base_uri": "https://localhost:8080/",
          "height": 576
        },
        "outputId": "4fb5ec70-c5ff-468d-d382-2babc5ec3f63"
      },
      "source": [
        "# Zapisz dane jako pd.DataFrame\n",
        "import pandas as pd\n",
        "\n",
        "pd.options.display.float_format = \"{:,.2f}\".format\n",
        "df = pd.DataFrame(features_list)\n",
        "df"
      ],
      "execution_count": null,
      "outputs": [
        {
          "output_type": "execute_result",
          "data": {
            "text/html": [
              "<div>\n",
              "<style scoped>\n",
              "    .dataframe tbody tr th:only-of-type {\n",
              "        vertical-align: middle;\n",
              "    }\n",
              "\n",
              "    .dataframe tbody tr th {\n",
              "        vertical-align: top;\n",
              "    }\n",
              "\n",
              "    .dataframe thead th {\n",
              "        text-align: right;\n",
              "    }\n",
              "</style>\n",
              "<table border=\"1\" class=\"dataframe\">\n",
              "  <thead>\n",
              "    <tr style=\"text-align: right;\">\n",
              "      <th></th>\n",
              "      <th>0</th>\n",
              "      <th>1</th>\n",
              "      <th>2</th>\n",
              "      <th>3</th>\n",
              "      <th>4</th>\n",
              "      <th>5</th>\n",
              "      <th>6</th>\n",
              "      <th>circularity</th>\n",
              "      <th>has_child</th>\n",
              "    </tr>\n",
              "  </thead>\n",
              "  <tbody>\n",
              "    <tr>\n",
              "      <th>0</th>\n",
              "      <td>0.16</td>\n",
              "      <td>0.00</td>\n",
              "      <td>0.00</td>\n",
              "      <td>0.00</td>\n",
              "      <td>-0.00</td>\n",
              "      <td>-0.00</td>\n",
              "      <td>0.00</td>\n",
              "      <td>0.88</td>\n",
              "      <td>0</td>\n",
              "    </tr>\n",
              "    <tr>\n",
              "      <th>1</th>\n",
              "      <td>0.16</td>\n",
              "      <td>0.00</td>\n",
              "      <td>0.00</td>\n",
              "      <td>0.00</td>\n",
              "      <td>0.00</td>\n",
              "      <td>0.00</td>\n",
              "      <td>0.00</td>\n",
              "      <td>0.76</td>\n",
              "      <td>0</td>\n",
              "    </tr>\n",
              "    <tr>\n",
              "      <th>2</th>\n",
              "      <td>0.16</td>\n",
              "      <td>0.00</td>\n",
              "      <td>0.00</td>\n",
              "      <td>0.00</td>\n",
              "      <td>-0.00</td>\n",
              "      <td>-0.00</td>\n",
              "      <td>0.00</td>\n",
              "      <td>0.85</td>\n",
              "      <td>1</td>\n",
              "    </tr>\n",
              "    <tr>\n",
              "      <th>3</th>\n",
              "      <td>0.19</td>\n",
              "      <td>0.01</td>\n",
              "      <td>0.00</td>\n",
              "      <td>0.00</td>\n",
              "      <td>-0.00</td>\n",
              "      <td>-0.00</td>\n",
              "      <td>0.00</td>\n",
              "      <td>0.64</td>\n",
              "      <td>0</td>\n",
              "    </tr>\n",
              "    <tr>\n",
              "      <th>4</th>\n",
              "      <td>0.16</td>\n",
              "      <td>0.00</td>\n",
              "      <td>0.00</td>\n",
              "      <td>0.00</td>\n",
              "      <td>-0.00</td>\n",
              "      <td>-0.00</td>\n",
              "      <td>-0.00</td>\n",
              "      <td>0.83</td>\n",
              "      <td>0</td>\n",
              "    </tr>\n",
              "    <tr>\n",
              "      <th>5</th>\n",
              "      <td>0.16</td>\n",
              "      <td>0.00</td>\n",
              "      <td>0.00</td>\n",
              "      <td>0.00</td>\n",
              "      <td>0.00</td>\n",
              "      <td>0.00</td>\n",
              "      <td>-0.00</td>\n",
              "      <td>0.88</td>\n",
              "      <td>1</td>\n",
              "    </tr>\n",
              "    <tr>\n",
              "      <th>6</th>\n",
              "      <td>0.16</td>\n",
              "      <td>0.00</td>\n",
              "      <td>0.00</td>\n",
              "      <td>0.00</td>\n",
              "      <td>-0.00</td>\n",
              "      <td>-0.00</td>\n",
              "      <td>0.00</td>\n",
              "      <td>0.86</td>\n",
              "      <td>0</td>\n",
              "    </tr>\n",
              "    <tr>\n",
              "      <th>7</th>\n",
              "      <td>0.16</td>\n",
              "      <td>0.00</td>\n",
              "      <td>0.00</td>\n",
              "      <td>0.00</td>\n",
              "      <td>-0.00</td>\n",
              "      <td>-0.00</td>\n",
              "      <td>-0.00</td>\n",
              "      <td>0.89</td>\n",
              "      <td>0</td>\n",
              "    </tr>\n",
              "    <tr>\n",
              "      <th>8</th>\n",
              "      <td>0.19</td>\n",
              "      <td>0.01</td>\n",
              "      <td>0.00</td>\n",
              "      <td>0.00</td>\n",
              "      <td>-0.00</td>\n",
              "      <td>-0.00</td>\n",
              "      <td>0.00</td>\n",
              "      <td>0.64</td>\n",
              "      <td>0</td>\n",
              "    </tr>\n",
              "    <tr>\n",
              "      <th>9</th>\n",
              "      <td>0.16</td>\n",
              "      <td>0.00</td>\n",
              "      <td>0.00</td>\n",
              "      <td>0.00</td>\n",
              "      <td>-0.00</td>\n",
              "      <td>0.00</td>\n",
              "      <td>0.00</td>\n",
              "      <td>0.76</td>\n",
              "      <td>0</td>\n",
              "    </tr>\n",
              "    <tr>\n",
              "      <th>10</th>\n",
              "      <td>0.16</td>\n",
              "      <td>0.00</td>\n",
              "      <td>0.00</td>\n",
              "      <td>0.00</td>\n",
              "      <td>-0.00</td>\n",
              "      <td>-0.00</td>\n",
              "      <td>-0.00</td>\n",
              "      <td>0.75</td>\n",
              "      <td>0</td>\n",
              "    </tr>\n",
              "    <tr>\n",
              "      <th>11</th>\n",
              "      <td>0.16</td>\n",
              "      <td>0.00</td>\n",
              "      <td>0.00</td>\n",
              "      <td>0.00</td>\n",
              "      <td>-0.00</td>\n",
              "      <td>-0.00</td>\n",
              "      <td>-0.00</td>\n",
              "      <td>0.77</td>\n",
              "      <td>0</td>\n",
              "    </tr>\n",
              "    <tr>\n",
              "      <th>12</th>\n",
              "      <td>0.16</td>\n",
              "      <td>0.00</td>\n",
              "      <td>0.00</td>\n",
              "      <td>0.00</td>\n",
              "      <td>0.00</td>\n",
              "      <td>0.00</td>\n",
              "      <td>-0.00</td>\n",
              "      <td>0.90</td>\n",
              "      <td>1</td>\n",
              "    </tr>\n",
              "    <tr>\n",
              "      <th>13</th>\n",
              "      <td>0.19</td>\n",
              "      <td>0.01</td>\n",
              "      <td>0.00</td>\n",
              "      <td>0.00</td>\n",
              "      <td>0.00</td>\n",
              "      <td>-0.00</td>\n",
              "      <td>0.00</td>\n",
              "      <td>0.73</td>\n",
              "      <td>0</td>\n",
              "    </tr>\n",
              "    <tr>\n",
              "      <th>14</th>\n",
              "      <td>0.18</td>\n",
              "      <td>0.01</td>\n",
              "      <td>0.00</td>\n",
              "      <td>0.00</td>\n",
              "      <td>0.00</td>\n",
              "      <td>0.00</td>\n",
              "      <td>0.00</td>\n",
              "      <td>0.75</td>\n",
              "      <td>0</td>\n",
              "    </tr>\n",
              "    <tr>\n",
              "      <th>15</th>\n",
              "      <td>0.16</td>\n",
              "      <td>0.00</td>\n",
              "      <td>0.00</td>\n",
              "      <td>0.00</td>\n",
              "      <td>-0.00</td>\n",
              "      <td>-0.00</td>\n",
              "      <td>0.00</td>\n",
              "      <td>0.87</td>\n",
              "      <td>1</td>\n",
              "    </tr>\n",
              "    <tr>\n",
              "      <th>16</th>\n",
              "      <td>0.16</td>\n",
              "      <td>0.00</td>\n",
              "      <td>0.00</td>\n",
              "      <td>0.00</td>\n",
              "      <td>0.00</td>\n",
              "      <td>0.00</td>\n",
              "      <td>-0.00</td>\n",
              "      <td>0.85</td>\n",
              "      <td>0</td>\n",
              "    </tr>\n",
              "  </tbody>\n",
              "</table>\n",
              "</div>"
            ],
            "text/plain": [
              "      0    1    2    3     4     5     6  circularity  has_child\n",
              "0  0.16 0.00 0.00 0.00 -0.00 -0.00  0.00         0.88          0\n",
              "1  0.16 0.00 0.00 0.00  0.00  0.00  0.00         0.76          0\n",
              "2  0.16 0.00 0.00 0.00 -0.00 -0.00  0.00         0.85          1\n",
              "3  0.19 0.01 0.00 0.00 -0.00 -0.00  0.00         0.64          0\n",
              "4  0.16 0.00 0.00 0.00 -0.00 -0.00 -0.00         0.83          0\n",
              "5  0.16 0.00 0.00 0.00  0.00  0.00 -0.00         0.88          1\n",
              "6  0.16 0.00 0.00 0.00 -0.00 -0.00  0.00         0.86          0\n",
              "7  0.16 0.00 0.00 0.00 -0.00 -0.00 -0.00         0.89          0\n",
              "8  0.19 0.01 0.00 0.00 -0.00 -0.00  0.00         0.64          0\n",
              "9  0.16 0.00 0.00 0.00 -0.00  0.00  0.00         0.76          0\n",
              "10 0.16 0.00 0.00 0.00 -0.00 -0.00 -0.00         0.75          0\n",
              "11 0.16 0.00 0.00 0.00 -0.00 -0.00 -0.00         0.77          0\n",
              "12 0.16 0.00 0.00 0.00  0.00  0.00 -0.00         0.90          1\n",
              "13 0.19 0.01 0.00 0.00  0.00 -0.00  0.00         0.73          0\n",
              "14 0.18 0.01 0.00 0.00  0.00  0.00  0.00         0.75          0\n",
              "15 0.16 0.00 0.00 0.00 -0.00 -0.00  0.00         0.87          1\n",
              "16 0.16 0.00 0.00 0.00  0.00  0.00 -0.00         0.85          0"
            ]
          },
          "metadata": {},
          "execution_count": 25
        }
      ]
    },
    {
      "cell_type": "code",
      "metadata": {
        "id": "VvbEbsXg9GMj",
        "colab": {
          "base_uri": "https://localhost:8080/",
          "height": 711
        },
        "outputId": "afd04e42-d89d-4743-843f-3189363156b0"
      },
      "source": [
        "from sklearn.cluster import KMeans\n",
        "import numpy as np\n",
        "\n",
        "from sklearn import preprocessing\n",
        "\n",
        "x = df.values #returns a numpy array\n",
        "normalizer = preprocessing.Normalizer()\n",
        "x_scaled = normalizer.fit_transform(x)\n",
        "df = pd.DataFrame(x_scaled)\n",
        "\n",
        "kmeans = KMeans(n_clusters=6, random_state=0).fit(df)\n",
        "print(kmeans.labels_)\n",
        "\n",
        "colors = [(255,0,0), (255,255,0), (255,0,255), (0,255,0), (0,255,255), (0,0,255)]\n",
        "for contour, label in zip(filtered_contours, kmeans.labels_):\n",
        "  classified = cv2.drawContours(shapes, [contour], 0, colors[label], 3)\n",
        "\n",
        "print(df)\n",
        "cv2_imshow(classified)\n"
      ],
      "execution_count": null,
      "outputs": [
        {
          "output_type": "stream",
          "name": "stdout",
          "text": [
            "[0 3 5 2 0 1 0 0 2 3 3 3 1 4 4 5 0]\n",
            "      0    1    2    3     4     5     6    7    8\n",
            "0  0.18 0.00 0.00 0.00 -0.00 -0.00  0.00 0.98 0.00\n",
            "1  0.21 0.00 0.00 0.00  0.00  0.00  0.00 0.98 0.00\n",
            "2  0.12 0.00 0.00 0.00 -0.00 -0.00  0.00 0.64 0.76\n",
            "3  0.28 0.01 0.00 0.00 -0.00 -0.00  0.00 0.96 0.00\n",
            "4  0.19 0.00 0.00 0.00 -0.00 -0.00 -0.00 0.98 0.00\n",
            "5  0.12 0.00 0.00 0.00  0.00  0.00 -0.00 0.66 0.75\n",
            "6  0.18 0.00 0.00 0.00 -0.00 -0.00  0.00 0.98 0.00\n",
            "7  0.18 0.00 0.00 0.00 -0.00 -0.00 -0.00 0.98 0.00\n",
            "8  0.28 0.01 0.00 0.00 -0.00 -0.00  0.00 0.96 0.00\n",
            "9  0.21 0.00 0.00 0.00 -0.00  0.00  0.00 0.98 0.00\n",
            "10 0.21 0.00 0.00 0.00 -0.00 -0.00 -0.00 0.98 0.00\n",
            "11 0.21 0.00 0.00 0.00 -0.00 -0.00 -0.00 0.98 0.00\n",
            "12 0.12 0.00 0.00 0.00  0.00  0.00 -0.00 0.66 0.74\n",
            "13 0.25 0.01 0.00 0.00  0.00 -0.00  0.00 0.97 0.00\n",
            "14 0.24 0.01 0.00 0.00  0.00  0.00  0.00 0.97 0.00\n",
            "15 0.12 0.00 0.00 0.00 -0.00 -0.00  0.00 0.65 0.75\n",
            "16 0.19 0.00 0.00 0.00  0.00  0.00 -0.00 0.98 0.00\n"
          ]
        },
        {
          "output_type": "display_data",
          "data": {
            "image/png": "[encoded data removed]",
            "text/plain": [
              "<PIL.Image.Image image mode=RGB size=846x470 at 0x7FB0FB89B1D0>"
            ]
          },
          "metadata": {}
        }
      ]
    },
    {
      "cell_type": "markdown",
      "metadata": {
        "id": "X7ccWT8uhIAN"
      },
      "source": [
        "# Self - session\n",
        "\n",
        "**MNIST**.\n",
        "\n",
        "Zbiór danych MNIST jest akronimem zmodyfikowanego zbioru danych National Institute of Standards and Technology.\n",
        "\n",
        "Jest to zbiór danych zawierający 60000 małych kwadratowych obrazów o wymiarach 28 × 28 pikseli w skali szarości, składających się z odręcznie napisanych pojedynczych cyfr od 0 do 9.\n",
        "\n",
        "Zadanie polega na zaklasyfikowaniu danego obrazu odręcznie napisanej cyfry do jednej z 10 klas reprezentujących wartości całkowite od 0 do 9 włącznie.\n",
        "\n",
        "Jest to powszechnie używany i głęboko zrozumiały zbiór danych, który w większości przypadków jest \"rozwiązany\". Modelami o najwyższej wydajności są plecione sieci neuronowe do uczenia głębokiego, które osiągają dokładność klasyfikacji powyżej 99%, przy poziomie błędów pomiędzy 0,4% a 0,2% na testowym zbiorze danych.\n",
        "\n",
        "**Zadanie**.\n",
        "\n",
        "Korzystając z konwencjonalnych metod, utwórz potok wyodrębniający cechy z obrazu i na ich podstawie spróbuj rozwiązać to zadanie.\n",
        "\n"
      ]
    },
    {
      "cell_type": "markdown",
      "metadata": {
        "id": "xj5sQJ07x25F"
      },
      "source": [
        "1. Załadować bazę danych zdjęć do pamięci\n",
        "2. Wyświetl kilka przykładowych obrazów w celu zapoznania się z MNIST-em\n",
        "3. Utwórz funkcję, która pobiera z obrazu odpowiednie informacje o konturach\n",
        "4. Utwórz funkcję, która pobiera cechy z konturu\n",
        "5. Przedstaw dane w postaci ramek danych (nie zapomnij - zarówno dla obrazów testowych jak i treningowych)\n",
        "6. Znormalizuj dane!\n",
        "7. Klasyfikacja!!! Przedstawienie wyników w postaci raportu\n"
      ]
    },
    {
      "cell_type": "markdown",
      "metadata": {
        "id": "RkJI-Q2UyFgG"
      },
      "source": [
        "# Odpowiedzi"
      ]
    },
    {
      "cell_type": "markdown",
      "metadata": {
        "id": "vSy9XkdSyLoI"
      },
      "source": [
        "1.   Ładowanie bazy danych zdjęć do pamięci\n",
        "\n",
        "\n"
      ]
    },
    {
      "cell_type": "code",
      "metadata": {
        "id": "5-YaMg_WihtB",
        "colab": {
          "base_uri": "https://localhost:8080/"
        },
        "outputId": "09e4d0f6-f34e-4ac8-c50e-e86c7d4198e8"
      },
      "source": [
        "from keras.datasets import mnist\n",
        "\n",
        "(train_X, train_y), (test_X, test_y) = mnist.load_data()\n",
        "\n",
        "print('X_train: ' + str(train_X.shape))\n",
        "print('Y_train: ' + str(train_y.shape))\n",
        "print('X_test:  '  + str(test_X.shape))\n",
        "print('Y_test:  '  + str(test_y.shape))"
      ],
      "execution_count": null,
      "outputs": [
        {
          "output_type": "stream",
          "text": [
            "X_train: (60000, 28, 28)\n",
            "Y_train: (60000,)\n",
            "X_test:  (10000, 28, 28)\n",
            "Y_test:  (10000,)\n"
          ],
          "name": "stdout"
        }
      ]
    },
    {
      "cell_type": "markdown",
      "metadata": {
        "id": "bluTLykR0CjD"
      },
      "source": [
        "2.   Zobacz kilka przykładowych obrazów, aby zapoznać się z MNIST\n"
      ]
    },
    {
      "cell_type": "code",
      "metadata": {
        "id": "E5Wr_OTTinVA",
        "colab": {
          "base_uri": "https://localhost:8080/",
          "height": 899
        },
        "outputId": "598e4efc-8ef5-48b3-d503-b1bfae8e6188"
      },
      "source": [
        "# from matplotlib import pyplot\n",
        "\n",
        "# for i in range(9):\n",
        "#   pyplot.subplot(330 + 1 + i)\n",
        "#   pyplot.imshow(train_X[i], cmap=pyplot.get_cmap('copper'))\n",
        "#   pyplot.show()\n"
      ],
      "execution_count": null,
      "outputs": [
        {
          "output_type": "display_data",
          "data": {
            "image/png": "[encoded data removed]",
            "text/plain": [
              "<Figure size 432x288 with 1 Axes>"
            ]
          },
          "metadata": {
            "tags": [],
            "needs_background": "light"
          }
        },
        {
          "output_type": "display_data",
          "data": {
            "image/png": "[encoded data removed]",
            "text/plain": [
              "<Figure size 432x288 with 1 Axes>"
            ]
          },
          "metadata": {
            "tags": [],
            "needs_background": "light"
          }
        },
        {
          "output_type": "display_data",
          "data": {
            "image/png": "[encoded data removed]",
            "text/plain": [
              "<Figure size 432x288 with 1 Axes>"
            ]
          },
          "metadata": {
            "tags": [],
            "needs_background": "light"
          }
        },
        {
          "output_type": "display_data",
          "data": {
            "image/png": "[encoded data removed]",
            "text/plain": [
              "<Figure size 432x288 with 1 Axes>"
            ]
          },
          "metadata": {
            "tags": [],
            "needs_background": "light"
          }
        },
        {
          "output_type": "display_data",
          "data": {
            "image/png": "[encoded data removed]",
            "text/plain": [
              "<Figure size 432x288 with 1 Axes>"
            ]
          },
          "metadata": {
            "tags": [],
            "needs_background": "light"
          }
        },
        {
          "output_type": "display_data",
          "data": {
            "image/png": "[encoded data removed]",
            "text/plain": [
              "<Figure size 432x288 with 1 Axes>"
            ]
          },
          "metadata": {
            "tags": [],
            "needs_background": "light"
          }
        },
        {
          "output_type": "display_data",
          "data": {
            "image/png": "[encoded data removed]",
            "text/plain": [
              "<Figure size 432x288 with 1 Axes>"
            ]
          },
          "metadata": {
            "tags": [],
            "needs_background": "light"
          }
        },
        {
          "output_type": "display_data",
          "data": {
            "image/png": "[encoded data removed]",
            "text/plain": [
              "<Figure size 432x288 with 1 Axes>"
            ]
          },
          "metadata": {
            "tags": [],
            "needs_background": "light"
          }
        },
        {
          "output_type": "display_data",
          "data": {
            "image/png": "[encoded data removed]",
            "text/plain": [
              "<Figure size 432x288 with 1 Axes>"
            ]
          },
          "metadata": {
            "tags": [],
            "needs_background": "light"
          }
        }
      ]
    },
    {
      "cell_type": "markdown",
      "metadata": {
        "id": "YSWeHezA0FKt"
      },
      "source": [
        "3.   Utwórz funkcję, która pobiera z obrazu odpowiednie informacje o konturze\n"
      ]
    },
    {
      "cell_type": "code",
      "metadata": {
        "id": "B-pSJ58Rjv4k"
      },
      "source": [
        "import pandas as pd\n",
        "\n",
        "def get_contour(image):\n",
        "  _,thresh1 = cv2.threshold(image,50,255,cv2.THRESH_BINARY)\n",
        "\n",
        "  contours, hierarchy\t=\tcv2.findContours(thresh1, cv2.RETR_TREE, cv2.CHAIN_APPROX_SIMPLE)\n",
        "\n",
        "  filtered_contours = []\n",
        "  childs_list = []\n",
        "  for contour, h in zip(contours, hierarchy[0]):\n",
        "    if h[3] == -1:\n",
        "      return contour, len(contours)-1"
      ],
      "execution_count": null,
      "outputs": []
    },
    {
      "cell_type": "markdown",
      "metadata": {
        "id": "bcVfbAv70HoL"
      },
      "source": [
        "4.   Utwórz funkcję, która pobierze wyrazy z konspektu"
      ]
    },
    {
      "cell_type": "code",
      "metadata": {
        "id": "gOK4spGz0MgN"
      },
      "source": [
        "def get_fetures(cnt, childs):\n",
        "\n",
        "  moments = cv2.moments(cnt)\n",
        "  hu_moments = cv2.HuMoments(moments)\n",
        "  features = {x: hu[0] for x, hu in enumerate(hu_moments)}\n",
        "  contour_area = cv2.contourArea(cnt)\n",
        "  arc_length = cv2.arcLength(cnt, True)\n",
        "  try:\n",
        "    features['circularity'] = 4 * 3.14 * contour_area / arc_length**2\n",
        "  except ZeroDivisionError:\n",
        "    features['circularity'] = 0\n",
        "  features['childs'] = childs\n",
        "\n",
        "  return features"
      ],
      "execution_count": null,
      "outputs": []
    },
    {
      "cell_type": "markdown",
      "metadata": {
        "id": "_-aZRAZ-0PAb"
      },
      "source": [
        "5.   Przedstaw dane w postaci ramek danych (nie zapomnij - zarówno dla obrazów testowych, jak i treningowych)"
      ]
    },
    {
      "cell_type": "code",
      "metadata": {
        "id": "xN8mXfX2tUyN",
        "colab": {
          "base_uri": "https://localhost:8080/",
          "height": 419
        },
        "outputId": "7f18148d-12dc-496a-d02f-8452ad5647fe"
      },
      "source": [
        "# train data\n",
        "\n",
        "lst_features = []\n",
        "for image in train_X:\n",
        "  contour, childs = get_contour(image)\n",
        "  lst_features.append(get_fetures(contour, childs))\n",
        "\n",
        "pd.options.display.float_format = \"{:,.2f}\".format\n",
        "df_train = pd.DataFrame(lst_features)\n",
        "df_train\n",
        "\n",
        "# test data\n",
        "\n",
        "lst_features = []\n",
        "for image in test_X:\n",
        "  contour, childs = get_contour(image)\n",
        "  lst_features.append(get_fetures(contour, childs))\n",
        "\n",
        "pd.options.display.float_format = \"{:,.2f}\".format\n",
        "df_test = pd.DataFrame(lst_features)\n",
        "df_test\n"
      ],
      "execution_count": null,
      "outputs": [
        {
          "output_type": "execute_result",
          "data": {
            "text/html": [
              "<div>\n",
              "<style scoped>\n",
              "    .dataframe tbody tr th:only-of-type {\n",
              "        vertical-align: middle;\n",
              "    }\n",
              "\n",
              "    .dataframe tbody tr th {\n",
              "        vertical-align: top;\n",
              "    }\n",
              "\n",
              "    .dataframe thead th {\n",
              "        text-align: right;\n",
              "    }\n",
              "</style>\n",
              "<table border=\"1\" class=\"dataframe\">\n",
              "  <thead>\n",
              "    <tr style=\"text-align: right;\">\n",
              "      <th></th>\n",
              "      <th>0</th>\n",
              "      <th>1</th>\n",
              "      <th>2</th>\n",
              "      <th>3</th>\n",
              "      <th>4</th>\n",
              "      <th>5</th>\n",
              "      <th>6</th>\n",
              "      <th>circularity</th>\n",
              "      <th>childs</th>\n",
              "    </tr>\n",
              "  </thead>\n",
              "  <tbody>\n",
              "    <tr>\n",
              "      <th>0</th>\n",
              "      <td>0.74</td>\n",
              "      <td>0.13</td>\n",
              "      <td>0.29</td>\n",
              "      <td>0.04</td>\n",
              "      <td>-0.00</td>\n",
              "      <td>0.00</td>\n",
              "      <td>-0.00</td>\n",
              "      <td>0.16</td>\n",
              "      <td>1</td>\n",
              "    </tr>\n",
              "    <tr>\n",
              "      <th>1</th>\n",
              "      <td>0.65</td>\n",
              "      <td>0.09</td>\n",
              "      <td>0.08</td>\n",
              "      <td>0.01</td>\n",
              "      <td>0.00</td>\n",
              "      <td>-0.00</td>\n",
              "      <td>0.00</td>\n",
              "      <td>0.13</td>\n",
              "      <td>0</td>\n",
              "    </tr>\n",
              "    <tr>\n",
              "      <th>2</th>\n",
              "      <td>0.95</td>\n",
              "      <td>0.87</td>\n",
              "      <td>0.05</td>\n",
              "      <td>0.05</td>\n",
              "      <td>0.00</td>\n",
              "      <td>0.04</td>\n",
              "      <td>-0.00</td>\n",
              "      <td>0.20</td>\n",
              "      <td>0</td>\n",
              "    </tr>\n",
              "    <tr>\n",
              "      <th>3</th>\n",
              "      <td>0.17</td>\n",
              "      <td>0.00</td>\n",
              "      <td>0.00</td>\n",
              "      <td>0.00</td>\n",
              "      <td>-0.00</td>\n",
              "      <td>-0.00</td>\n",
              "      <td>0.00</td>\n",
              "      <td>0.76</td>\n",
              "      <td>1</td>\n",
              "    </tr>\n",
              "    <tr>\n",
              "      <th>4</th>\n",
              "      <td>0.62</td>\n",
              "      <td>0.01</td>\n",
              "      <td>0.06</td>\n",
              "      <td>0.01</td>\n",
              "      <td>-0.00</td>\n",
              "      <td>0.00</td>\n",
              "      <td>0.00</td>\n",
              "      <td>0.11</td>\n",
              "      <td>0</td>\n",
              "    </tr>\n",
              "    <tr>\n",
              "      <th>...</th>\n",
              "      <td>...</td>\n",
              "      <td>...</td>\n",
              "      <td>...</td>\n",
              "      <td>...</td>\n",
              "      <td>...</td>\n",
              "      <td>...</td>\n",
              "      <td>...</td>\n",
              "      <td>...</td>\n",
              "      <td>...</td>\n",
              "    </tr>\n",
              "    <tr>\n",
              "      <th>9995</th>\n",
              "      <td>0.37</td>\n",
              "      <td>0.02</td>\n",
              "      <td>0.00</td>\n",
              "      <td>0.00</td>\n",
              "      <td>-0.00</td>\n",
              "      <td>-0.00</td>\n",
              "      <td>0.00</td>\n",
              "      <td>0.22</td>\n",
              "      <td>0</td>\n",
              "    </tr>\n",
              "    <tr>\n",
              "      <th>9996</th>\n",
              "      <td>0.40</td>\n",
              "      <td>0.03</td>\n",
              "      <td>0.01</td>\n",
              "      <td>0.00</td>\n",
              "      <td>-0.00</td>\n",
              "      <td>-0.00</td>\n",
              "      <td>-0.00</td>\n",
              "      <td>0.24</td>\n",
              "      <td>0</td>\n",
              "    </tr>\n",
              "    <tr>\n",
              "      <th>9997</th>\n",
              "      <td>0.31</td>\n",
              "      <td>0.02</td>\n",
              "      <td>0.01</td>\n",
              "      <td>0.00</td>\n",
              "      <td>0.00</td>\n",
              "      <td>0.00</td>\n",
              "      <td>0.00</td>\n",
              "      <td>0.23</td>\n",
              "      <td>0</td>\n",
              "    </tr>\n",
              "    <tr>\n",
              "      <th>9998</th>\n",
              "      <td>0.41</td>\n",
              "      <td>0.06</td>\n",
              "      <td>0.03</td>\n",
              "      <td>0.01</td>\n",
              "      <td>0.00</td>\n",
              "      <td>0.00</td>\n",
              "      <td>-0.00</td>\n",
              "      <td>0.20</td>\n",
              "      <td>0</td>\n",
              "    </tr>\n",
              "    <tr>\n",
              "      <th>9999</th>\n",
              "      <td>0.29</td>\n",
              "      <td>0.00</td>\n",
              "      <td>0.01</td>\n",
              "      <td>0.00</td>\n",
              "      <td>0.00</td>\n",
              "      <td>0.00</td>\n",
              "      <td>-0.00</td>\n",
              "      <td>0.26</td>\n",
              "      <td>2</td>\n",
              "    </tr>\n",
              "  </tbody>\n",
              "</table>\n",
              "<p>10000 rows × 9 columns</p>\n",
              "</div>"
            ],
            "text/plain": [
              "        0    1    2    3     4     5     6  circularity  childs\n",
              "0    0.74 0.13 0.29 0.04 -0.00  0.00 -0.00         0.16       1\n",
              "1    0.65 0.09 0.08 0.01  0.00 -0.00  0.00         0.13       0\n",
              "2    0.95 0.87 0.05 0.05  0.00  0.04 -0.00         0.20       0\n",
              "3    0.17 0.00 0.00 0.00 -0.00 -0.00  0.00         0.76       1\n",
              "4    0.62 0.01 0.06 0.01 -0.00  0.00  0.00         0.11       0\n",
              "...   ...  ...  ...  ...   ...   ...   ...          ...     ...\n",
              "9995 0.37 0.02 0.00 0.00 -0.00 -0.00  0.00         0.22       0\n",
              "9996 0.40 0.03 0.01 0.00 -0.00 -0.00 -0.00         0.24       0\n",
              "9997 0.31 0.02 0.01 0.00  0.00  0.00  0.00         0.23       0\n",
              "9998 0.41 0.06 0.03 0.01  0.00  0.00 -0.00         0.20       0\n",
              "9999 0.29 0.00 0.01 0.00  0.00  0.00 -0.00         0.26       2\n",
              "\n",
              "[10000 rows x 9 columns]"
            ]
          },
          "metadata": {
            "tags": []
          },
          "execution_count": 12
        }
      ]
    },
    {
      "cell_type": "markdown",
      "metadata": {
        "id": "DRcjUeNW0Rvs"
      },
      "source": [
        "6.   Normalizacja danych!"
      ]
    },
    {
      "cell_type": "code",
      "metadata": {
        "id": "mTQQBoQ4udBx"
      },
      "source": [
        "#Normalization\n",
        "from sklearn import preprocessing\n",
        "\n",
        "def normalize(data):\n",
        "  x = data.values #returns a numpy array\n",
        "  normalizer = preprocessing.Normalizer()\n",
        "  x_scaled = normalizer.fit_transform(x)\n",
        "  data = pd.DataFrame(x_scaled)\n",
        "  return data\n",
        "\n",
        "df_test = normalize(df_test)\n",
        "df_train = normalize(df_train)"
      ],
      "execution_count": null,
      "outputs": []
    },
    {
      "cell_type": "markdown",
      "metadata": {
        "id": "eHPPaa1Z0TSF"
      },
      "source": [
        "7.   Klasyfikacja! Przedstaw wyniki w raporcie."
      ]
    },
    {
      "cell_type": "code",
      "metadata": {
        "id": "yW3JtkJyvaNv",
        "colab": {
          "base_uri": "https://localhost:8080/"
        },
        "outputId": "40936700-8877-4600-932f-289a57d4afdb"
      },
      "source": [
        "from sklearn.metrics import classification_report\n",
        "from sklearn.tree import DecisionTreeClassifier\n",
        "\n",
        "clf = DecisionTreeClassifier(random_state=0)\n",
        "clf.fit(df_train, train_y)\n",
        "prediction = clf.predict(df_test)\n",
        "print(classification_report(test_y, prediction))"
      ],
      "execution_count": null,
      "outputs": [
        {
          "output_type": "stream",
          "text": [
            "              precision    recall  f1-score   support\n",
            "\n",
            "           0       0.92      0.88      0.90       980\n",
            "           1       0.87      0.96      0.91      1135\n",
            "           2       0.35      0.34      0.34      1032\n",
            "           3       0.50      0.50      0.50      1010\n",
            "           4       0.47      0.47      0.47       982\n",
            "           5       0.33      0.35      0.34       892\n",
            "           6       0.56      0.57      0.57       958\n",
            "           7       0.66      0.66      0.66      1028\n",
            "           8       0.80      0.75      0.77       974\n",
            "           9       0.60      0.55      0.57      1009\n",
            "\n",
            "    accuracy                           0.61     10000\n",
            "   macro avg       0.61      0.60      0.60     10000\n",
            "weighted avg       0.61      0.61      0.61     10000\n",
            "\n"
          ],
          "name": "stdout"
        }
      ]
    },
    {
      "cell_type": "code",
      "metadata": {
        "colab": {
          "base_uri": "https://localhost:8080/",
          "height": 231
        },
        "id": "Kt6n23jBafsV",
        "outputId": "06b2be1f-17e2-475d-ac0c-b12892355bf1"
      },
      "source": [
        "from imgaug import augmenters as iaa\n",
        "ia.seed(4)\n",
        "images = [image, image, image, image]\n",
        "rotate = iaa.Affine(rotate=(-25, 25))\n",
        "image_aug = rotate(images=images)\n",
        "print(\"Augmented:\")\n",
        "ia.imshow(np.hstack(image_aug))"
      ],
      "execution_count": null,
      "outputs": [
        {
          "output_type": "error",
          "ename": "NameError",
          "evalue": "ignored",
          "traceback": [
            "\u001b[0;31m---------------------------------------------------------------------------\u001b[0m",
            "\u001b[0;31mNameError\u001b[0m                                 Traceback (most recent call last)",
            "\u001b[0;32m<ipython-input-4-104c98a94229>\u001b[0m in \u001b[0;36m<module>\u001b[0;34m()\u001b[0m\n\u001b[1;32m      1\u001b[0m \u001b[0;32mfrom\u001b[0m \u001b[0mimgaug\u001b[0m \u001b[0;32mimport\u001b[0m \u001b[0maugmenters\u001b[0m \u001b[0;32mas\u001b[0m \u001b[0miaa\u001b[0m\u001b[0;34m\u001b[0m\u001b[0;34m\u001b[0m\u001b[0m\n\u001b[0;32m----> 2\u001b[0;31m \u001b[0mia\u001b[0m\u001b[0;34m.\u001b[0m\u001b[0mseed\u001b[0m\u001b[0;34m(\u001b[0m\u001b[0;36m4\u001b[0m\u001b[0;34m)\u001b[0m\u001b[0;34m\u001b[0m\u001b[0;34m\u001b[0m\u001b[0m\n\u001b[0m\u001b[1;32m      3\u001b[0m \u001b[0mimages\u001b[0m \u001b[0;34m=\u001b[0m \u001b[0;34m[\u001b[0m\u001b[0mimage\u001b[0m\u001b[0;34m,\u001b[0m \u001b[0mimage\u001b[0m\u001b[0;34m,\u001b[0m \u001b[0mimage\u001b[0m\u001b[0;34m,\u001b[0m \u001b[0mimage\u001b[0m\u001b[0;34m]\u001b[0m\u001b[0;34m\u001b[0m\u001b[0;34m\u001b[0m\u001b[0m\n\u001b[1;32m      4\u001b[0m \u001b[0mrotate\u001b[0m \u001b[0;34m=\u001b[0m \u001b[0miaa\u001b[0m\u001b[0;34m.\u001b[0m\u001b[0mAffine\u001b[0m\u001b[0;34m(\u001b[0m\u001b[0mrotate\u001b[0m\u001b[0;34m=\u001b[0m\u001b[0;34m(\u001b[0m\u001b[0;34m-\u001b[0m\u001b[0;36m25\u001b[0m\u001b[0;34m,\u001b[0m \u001b[0;36m25\u001b[0m\u001b[0;34m)\u001b[0m\u001b[0;34m)\u001b[0m\u001b[0;34m\u001b[0m\u001b[0;34m\u001b[0m\u001b[0m\n\u001b[1;32m      5\u001b[0m \u001b[0mimage_aug\u001b[0m \u001b[0;34m=\u001b[0m \u001b[0mrotate\u001b[0m\u001b[0;34m(\u001b[0m\u001b[0mimages\u001b[0m\u001b[0;34m=\u001b[0m\u001b[0mimages\u001b[0m\u001b[0;34m)\u001b[0m\u001b[0;34m\u001b[0m\u001b[0;34m\u001b[0m\u001b[0m\n",
            "\u001b[0;31mNameError\u001b[0m: name 'ia' is not defined"
          ]
        }
      ]
    },
    {
      "cell_type": "code",
      "metadata": {
        "id": "5S1OW6EKagV2"
      },
      "source": [],
      "execution_count": null,
      "outputs": []
    }
  ]
}